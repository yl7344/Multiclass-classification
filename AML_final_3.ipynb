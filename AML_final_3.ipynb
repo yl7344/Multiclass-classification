{
 "cells": [
  {
   "cell_type": "code",
   "execution_count": 1,
   "metadata": {
    "colab": {
     "base_uri": "https://localhost:8080/"
    },
    "id": "Unc8tw9n595w",
    "outputId": "bd59063d-471b-43ef-b7c5-f128f56851d6"
   },
   "outputs": [
    {
     "name": "stdout",
     "output_type": "stream",
     "text": [
      "Files already downloaded and verified\n"
     ]
    }
   ],
   "source": [
    "import torch\n",
    "import torchvision\n",
    "import numpy as np\n",
    "import matplotlib.pyplot as plt\n",
    "import torch.nn as nn\n",
    "import torch.nn.functional as F\n",
    "from torchvision.datasets import CIFAR100\n",
    "import torchvision.transforms as transforms\n",
    "from torchvision.utils import make_grid\n",
    "from torch.utils.data.dataloader import DataLoader\n",
    "from torch.utils.data import random_split,ConcatDataset\n",
    "from torchsummary import summary\n",
    "\n",
    "import ResNet\n",
    "import ResNet1\n",
    "import data\n",
    "import CNN\n",
    "import evaluate\n",
    "import train"
   ]
  },
  {
   "cell_type": "code",
   "execution_count": 2,
   "metadata": {
    "colab": {
     "base_uri": "https://localhost:8080/",
     "height": 606
    },
    "id": "y-seD7dXbjMw",
    "outputId": "9aaf0913-d7c2-4067-8658-8ae1ec4bc22b",
    "scrolled": true
   },
   "outputs": [
    {
     "name": "stdout",
     "output_type": "stream",
     "text": [
      "iter:   1000, train loss: 2.99870174074173, test_loss: 98.09961462020874\n",
      "accuracy: 37.24%\n",
      "iter:   2000, train loss: 2.0099417344331743, test_loss: 81.06492173671722\n",
      "accuracy: 46.37%\n",
      "iter:   3000, train loss: 1.579287707567215, test_loss: 72.08924841880798\n",
      "accuracy: 51.03%\n",
      "iter:   4000, train loss: 1.2932057038545608, test_loss: 68.5653406381607\n",
      "accuracy: 53.71%\n",
      "iter:   5000, train loss: 1.068095874428749, test_loss: 64.98383963108063\n",
      "accuracy: 55.93%\n",
      "iter:   6000, train loss: 0.8850931547284127, test_loss: 64.79577219486237\n",
      "accuracy: 56.58%\n",
      "iter:   7000, train loss: 0.731370781302452, test_loss: 65.3317699432373\n",
      "accuracy: 56.57%\n",
      "iter:   8000, train loss: 0.5972086673080921, test_loss: 64.52763390541077\n",
      "accuracy: 57.620000000000005%\n",
      "iter:   9000, train loss: 0.48842821222543714, test_loss: 65.54782950878143\n",
      "accuracy: 58.099999999999994%\n",
      "iter:  10000, train loss: 0.3930544444769621, test_loss: 67.88087272644043\n",
      "accuracy: 58.099999999999994%\n",
      "iter:   1000, train loss: 3.0132847495079043, test_loss: 96.75608158111572\n",
      "accuracy: 37.69%\n",
      "iter:   2000, train loss: 2.0073717209100725, test_loss: 79.87076437473297\n",
      "accuracy: 47.44%\n",
      "iter:   3000, train loss: 1.5635405970811844, test_loss: 70.70692527294159\n",
      "accuracy: 53.04%\n",
      "iter:   4000, train loss: 1.273114803314209, test_loss: 67.08471727371216\n",
      "accuracy: 54.63%\n",
      "iter:   5000, train loss: 1.0535342175364495, test_loss: 63.514880537986755\n",
      "accuracy: 56.97%\n",
      "iter:   6000, train loss: 0.8752861343026161, test_loss: 62.458451628685\n",
      "accuracy: 58.309999999999995%\n",
      "iter:   7000, train loss: 0.7258984387516976, test_loss: 63.8791446685791\n",
      "accuracy: 57.64%\n",
      "iter:   8000, train loss: 0.5954910778701306, test_loss: 62.66916847229004\n",
      "accuracy: 59.209999999999994%\n",
      "iter:   9000, train loss: 0.48611343824863434, test_loss: 63.2173718214035\n",
      "accuracy: 59.599999999999994%\n",
      "iter:  10000, train loss: 0.39444474697113036, test_loss: 65.57156085968018\n",
      "accuracy: 59.35%\n",
      "iter:   1000, train loss: 3.0279122433662415, test_loss: 98.72649025917053\n",
      "accuracy: 37.1%\n",
      "iter:   2000, train loss: 2.031208823800087, test_loss: 80.63298499584198\n",
      "accuracy: 46.33%\n",
      "iter:   3000, train loss: 1.5816031076908112, test_loss: 72.15156590938568\n",
      "accuracy: 51.300000000000004%\n",
      "iter:   4000, train loss: 1.2862259700298309, test_loss: 66.36573791503906\n",
      "accuracy: 55.03%\n",
      "iter:   5000, train loss: 1.0585972194075584, test_loss: 64.73621165752411\n",
      "accuracy: 56.32%\n",
      "iter:   6000, train loss: 0.8790333571434021, test_loss: 61.65500807762146\n",
      "accuracy: 58.02%\n",
      "iter:   7000, train loss: 0.7250769298374653, test_loss: 61.56662344932556\n",
      "accuracy: 58.52%\n",
      "iter:   8000, train loss: 0.591770628452301, test_loss: 63.631444811820984\n",
      "accuracy: 58.07%\n",
      "iter:   9000, train loss: 0.4813883869946003, test_loss: 64.29132354259491\n",
      "accuracy: 58.56%\n",
      "iter:  10000, train loss: 0.3892896176725626, test_loss: 64.698903799057\n",
      "accuracy: 58.989999999999995%\n",
      "iter:   1000, train loss: 2.9913324737548828, test_loss: 97.81246137619019\n",
      "accuracy: 37.63%\n",
      "iter:   2000, train loss: 2.014677332997322, test_loss: 81.15184164047241\n",
      "accuracy: 46.43%\n",
      "iter:   3000, train loss: 1.5761526503562928, test_loss: 70.50985169410706\n",
      "accuracy: 52.35999999999999%\n",
      "iter:   4000, train loss: 1.2845405631661415, test_loss: 67.33014404773712\n",
      "accuracy: 54.16%\n",
      "iter:   5000, train loss: 1.0625654910802842, test_loss: 63.84612774848938\n",
      "accuracy: 57.02%\n",
      "iter:   6000, train loss: 0.8816051849126816, test_loss: 63.08795487880707\n",
      "accuracy: 57.699999999999996%\n",
      "iter:   7000, train loss: 0.7282409799098969, test_loss: 61.928484082221985\n",
      "accuracy: 58.14%\n",
      "iter:   8000, train loss: 0.6007833771705627, test_loss: 63.212077260017395\n",
      "accuracy: 59.21999999999999%\n",
      "iter:   9000, train loss: 0.49002727833390236, test_loss: 63.57732450962067\n",
      "accuracy: 59.29%\n",
      "iter:  10000, train loss: 0.397411283403635, test_loss: 67.00355935096741\n",
      "accuracy: 58.52%\n",
      "iter:   1000, train loss: 3.020520088672638, test_loss: 98.27305841445923\n",
      "accuracy: 37.29%\n",
      "iter:   2000, train loss: 2.0079757939577103, test_loss: 81.19468235969543\n",
      "accuracy: 46.29%\n",
      "iter:   3000, train loss: 1.5679171016216278, test_loss: 73.11342704296112\n",
      "accuracy: 50.949999999999996%\n",
      "iter:   4000, train loss: 1.281124347269535, test_loss: 66.68848204612732\n",
      "accuracy: 54.48%\n",
      "iter:   5000, train loss: 1.0617736874818802, test_loss: 65.0729740858078\n",
      "accuracy: 55.769999999999996%\n",
      "iter:   6000, train loss: 0.8790987231135369, test_loss: 64.67707669734955\n",
      "accuracy: 56.589999999999996%\n",
      "iter:   7000, train loss: 0.7304714592695236, test_loss: 63.71287775039673\n",
      "accuracy: 57.85%\n",
      "iter:   8000, train loss: 0.5999500015974045, test_loss: 63.1436733007431\n",
      "accuracy: 58.51%\n",
      "iter:   9000, train loss: 0.488386693418026, test_loss: 65.7575614452362\n",
      "accuracy: 58.56%\n",
      "iter:  10000, train loss: 0.3955732987523079, test_loss: 68.19767153263092\n",
      "accuracy: 57.8%\n",
      "iter:   1000, train loss: 3.029741247177124, test_loss: 98.9468309879303\n",
      "accuracy: 37.63%\n",
      "iter:   2000, train loss: 2.0349818754196165, test_loss: 81.18357253074646\n",
      "accuracy: 47.31%\n",
      "iter:   3000, train loss: 1.5860791535377503, test_loss: 71.77391541004181\n",
      "accuracy: 51.89%\n",
      "iter:   4000, train loss: 1.294796846807003, test_loss: 65.51563608646393\n",
      "accuracy: 55.33%\n",
      "iter:   5000, train loss: 1.0656165338158607, test_loss: 63.07437300682068\n",
      "accuracy: 56.88999999999999%\n",
      "iter:   6000, train loss: 0.883248532295227, test_loss: 61.81721782684326\n",
      "accuracy: 58.14%\n",
      "iter:   7000, train loss: 0.7303097963929176, test_loss: 61.878692984580994\n",
      "accuracy: 58.5%\n",
      "iter:   8000, train loss: 0.601389179110527, test_loss: 62.529337763786316\n",
      "accuracy: 58.89%\n",
      "iter:   9000, train loss: 0.4886865997612476, test_loss: 63.433083176612854\n",
      "accuracy: 59.099999999999994%\n",
      "iter:  10000, train loss: 0.3958363111168146, test_loss: 66.72503519058228\n",
      "accuracy: 58.120000000000005%\n",
      "iter:   1000, train loss: 3.0127050664424897, test_loss: 98.15539836883545\n",
      "accuracy: 37.28%\n",
      "iter:   2000, train loss: 2.017588268637657, test_loss: 79.73083746433258\n",
      "accuracy: 47.28%\n",
      "iter:   3000, train loss: 1.5764202326536179, test_loss: 70.29636538028717\n",
      "accuracy: 52.17%\n",
      "iter:   4000, train loss: 1.2859455587863922, test_loss: 66.60763955116272\n",
      "accuracy: 54.52%\n",
      "iter:   5000, train loss: 1.0640026352405547, test_loss: 61.957082629203796\n",
      "accuracy: 57.38999999999999%\n",
      "iter:   6000, train loss: 0.8831948177814484, test_loss: 61.7502475976944\n",
      "accuracy: 58.440000000000005%\n",
      "iter:   7000, train loss: 0.7278115742206573, test_loss: 61.106701612472534\n",
      "accuracy: 59.28%\n",
      "iter:   8000, train loss: 0.600202165544033, test_loss: 62.69921636581421\n",
      "accuracy: 58.63%\n",
      "iter:   9000, train loss: 0.4902588009536266, test_loss: 63.16122353076935\n",
      "accuracy: 59.260000000000005%\n",
      "iter:  10000, train loss: 0.39789499071240425, test_loss: 64.866131067276\n",
      "accuracy: 59.46%\n",
      "iter:   1000, train loss: 3.002726876735687, test_loss: 97.90327882766724\n",
      "accuracy: 36.99%\n",
      "iter:   2000, train loss: 2.010074147939682, test_loss: 79.01089692115784\n",
      "accuracy: 47.64%\n",
      "iter:   3000, train loss: 1.5636942219734191, test_loss: 70.01967704296112\n",
      "accuracy: 52.04%\n",
      "iter:   4000, train loss: 1.270038067996502, test_loss: 65.49463045597076\n",
      "accuracy: 54.87%\n",
      "iter:   5000, train loss: 1.047822911977768, test_loss: 62.982800006866455\n",
      "accuracy: 56.84%\n",
      "iter:   6000, train loss: 0.8696098892092705, test_loss: 60.997241139411926\n",
      "accuracy: 59.0%\n",
      "iter:   7000, train loss: 0.7150394261479378, test_loss: 59.994948863983154\n",
      "accuracy: 59.24%\n",
      "iter:   8000, train loss: 0.586409733325243, test_loss: 60.38091337680817\n",
      "accuracy: 60.089999999999996%\n",
      "iter:   9000, train loss: 0.4768649025261402, test_loss: 61.93421995639801\n",
      "accuracy: 59.47%\n",
      "iter:  10000, train loss: 0.38691506497561934, test_loss: 63.245887756347656\n",
      "accuracy: 59.809999999999995%\n",
      "iter:   1000, train loss: 3.017378207206726, test_loss: 98.51733207702637\n",
      "accuracy: 36.91%\n",
      "iter:   2000, train loss: 2.0259818402528764, test_loss: 80.02280294895172\n",
      "accuracy: 46.68%\n",
      "iter:   3000, train loss: 1.5817605009078979, test_loss: 71.41893327236176\n",
      "accuracy: 51.33%\n",
      "iter:   4000, train loss: 1.287105210363865, test_loss: 67.74476540088654\n",
      "accuracy: 53.779999999999994%\n",
      "iter:   5000, train loss: 1.06507738673687, test_loss: 63.97707283496857\n",
      "accuracy: 56.11000000000001%\n",
      "iter:   6000, train loss: 0.8796644350290298, test_loss: 61.16033983230591\n",
      "accuracy: 58.32000000000001%\n"
     ]
    },
    {
     "name": "stdout",
     "output_type": "stream",
     "text": [
      "iter:   7000, train loss: 0.7299829366207122, test_loss: 61.562593936920166\n",
      "accuracy: 58.79%\n",
      "iter:   8000, train loss: 0.5964617800414562, test_loss: 62.75068926811218\n",
      "accuracy: 58.989999999999995%\n",
      "iter:   9000, train loss: 0.48629327419400215, test_loss: 64.08162009716034\n",
      "accuracy: 58.78%\n",
      "iter:  10000, train loss: 0.3930261641144753, test_loss: 66.4033784866333\n",
      "accuracy: 58.64%\n",
      "iter:   1000, train loss: 2.9919130370616913, test_loss: 98.02438569068909\n",
      "accuracy: 37.19%\n",
      "iter:   2000, train loss: 1.9999704239368439, test_loss: 81.13920617103577\n",
      "accuracy: 46.87%\n",
      "iter:   3000, train loss: 1.563618002653122, test_loss: 70.42205226421356\n",
      "accuracy: 52.49%\n",
      "iter:   4000, train loss: 1.273773417532444, test_loss: 65.81583070755005\n",
      "accuracy: 55.379999999999995%\n",
      "iter:   5000, train loss: 1.0540003254413606, test_loss: 63.660836577415466\n",
      "accuracy: 56.36%\n",
      "iter:   6000, train loss: 0.8729466614127159, test_loss: 63.19836127758026\n",
      "accuracy: 57.489999999999995%\n",
      "iter:   7000, train loss: 0.7207111241817474, test_loss: 62.18414103984833\n",
      "accuracy: 58.550000000000004%\n",
      "iter:   8000, train loss: 0.5919811310768127, test_loss: 62.38727831840515\n",
      "accuracy: 58.86%\n",
      "iter:   9000, train loss: 0.4797018687427044, test_loss: 64.65067279338837\n",
      "accuracy: 58.91%\n",
      "iter:  10000, train loss: 0.38782855884730816, test_loss: 64.03868651390076\n",
      "accuracy: 59.63%\n",
      "CPU times: user 1h 45min 2s, sys: 32min 17s, total: 2h 17min 19s\n",
      "Wall time: 2h 17min 51s\n"
     ]
    }
   ],
   "source": [
    "%%time\n",
    "nets, train_loss_his, test_loss_his = train.train_smallNet(10000,1000,10)"
   ]
  },
  {
   "cell_type": "code",
   "execution_count": 19,
   "metadata": {},
   "outputs": [
    {
     "data": {
      "text/plain": [
       "<matplotlib.legend.Legend at 0x14e0bc722880>"
      ]
     },
     "execution_count": 19,
     "metadata": {},
     "output_type": "execute_result"
    },
    {
     "data": {
      "image/png": "[encoded data removed]",
      "text/plain": [
       "<Figure size 432x288 with 1 Axes>"
      ]
     },
     "metadata": {
      "needs_background": "light"
     },
     "output_type": "display_data"
    }
   ],
   "source": [
    "plt.plot(range(len(train_loss_his[0])),train_loss_his[0],'-',linewidth=3,label='Train loss')\n",
    "plt.plot(range(len(train_loss_his[0])),test_loss_his[0],'-',linewidth=3,label='Test loss')\n",
    "plt.xlabel('1000 epoches')\n",
    "plt.ylabel('loss')\n",
    "plt.grid(True)\n",
    "plt.legend()"
   ]
  },
  {
   "cell_type": "code",
   "execution_count": 20,
   "metadata": {},
   "outputs": [
    {
     "data": {
      "text/plain": [
       "<matplotlib.legend.Legend at 0x14e0b5794e20>"
      ]
     },
     "execution_count": 20,
     "metadata": {},
     "output_type": "execute_result"
    },
    {
     "data": {
      "image/png": "[encoded data removed]",
      "text/plain": [
       "<Figure size 432x288 with 1 Axes>"
      ]
     },
     "metadata": {
      "needs_background": "light"
     },
     "output_type": "display_data"
    }
   ],
   "source": [
    "plt.plot(range(len(train_loss_his[1])),train_loss_his[1],'-',linewidth=3,label='Train loss')\n",
    "plt.plot(range(len(train_loss_his[1])),test_loss_his[1],'-',linewidth=3,label='Test loss')\n",
    "plt.xlabel('1000 epoches')\n",
    "plt.ylabel('loss')\n",
    "plt.grid(True)\n",
    "plt.legend()"
   ]
  },
  {
   "cell_type": "code",
   "execution_count": 21,
   "metadata": {},
   "outputs": [
    {
     "data": {
      "text/plain": [
       "<matplotlib.legend.Legend at 0x14e0b5786430>"
      ]
     },
     "execution_count": 21,
     "metadata": {},
     "output_type": "execute_result"
    },
    {
     "data": {
      "image/png": "[encoded data removed]",
      "text/plain": [
       "<Figure size 432x288 with 1 Axes>"
      ]
     },
     "metadata": {
      "needs_background": "light"
     },
     "output_type": "display_data"
    }
   ],
   "source": [
    "plt.plot(range(len(train_loss_his[2])),train_loss_his[2],'-',linewidth=3,label='Train loss')\n",
    "plt.plot(range(len(train_loss_his[2])),test_loss_his[2],'-',linewidth=3,label='Test loss')\n",
    "plt.xlabel('1000 epoches')\n",
    "plt.ylabel('loss')\n",
    "plt.grid(True)\n",
    "plt.legend()"
   ]
  },
  {
   "cell_type": "code",
   "execution_count": 22,
   "metadata": {},
   "outputs": [
    {
     "data": {
      "text/plain": [
       "<matplotlib.legend.Legend at 0x14e0b5737790>"
      ]
     },
     "execution_count": 22,
     "metadata": {},
     "output_type": "execute_result"
    },
    {
     "data": {
      "image/png": "[encoded data removed]",
      "text/plain": [
       "<Figure size 432x288 with 1 Axes>"
      ]
     },
     "metadata": {
      "needs_background": "light"
     },
     "output_type": "display_data"
    }
   ],
   "source": [
    "plt.plot(range(len(train_loss_his[3])),train_loss_his[3],'-',linewidth=3,label='Train loss')\n",
    "plt.plot(range(len(train_loss_his[3])),test_loss_his[3],'-',linewidth=3,label='Test loss')\n",
    "plt.xlabel('1000 epoches')\n",
    "plt.ylabel('loss')\n",
    "plt.grid(True)\n",
    "plt.legend()"
   ]
  },
  {
   "cell_type": "code",
   "execution_count": 23,
   "metadata": {},
   "outputs": [
    {
     "data": {
      "text/plain": [
       "<matplotlib.legend.Legend at 0x14e0b56cfa30>"
      ]
     },
     "execution_count": 23,
     "metadata": {},
     "output_type": "execute_result"
    },
    {
     "data": {
      "image/png": "[encoded data removed]",
      "text/plain": [
       "<Figure size 432x288 with 1 Axes>"
      ]
     },
     "metadata": {
      "needs_background": "light"
     },
     "output_type": "display_data"
    }
   ],
   "source": [
    "plt.plot(range(len(train_loss_his[4])),train_loss_his[4],'-',linewidth=3,label='Train loss')\n",
    "plt.plot(range(len(train_loss_his[4])),test_loss_his[4],'-',linewidth=3,label='Test loss')\n",
    "plt.xlabel('1000 epoches')\n",
    "plt.ylabel('loss')\n",
    "plt.grid(True)\n",
    "plt.legend()"
   ]
  },
  {
   "cell_type": "code",
   "execution_count": 8,
   "metadata": {},
   "outputs": [],
   "source": [
    "trainDataLoader, testDataLoader =  data.loadData(250)"
   ]
  },
  {
   "cell_type": "code",
   "execution_count": 9,
   "metadata": {},
   "outputs": [],
   "source": [
    "def evaluate_2(models,dataloader):\n",
    "  acc = 0.0\n",
    "  rights = 0\n",
    "  wrongs = 0\n",
    "  for i, test_examples in enumerate(dataloader, 0):\n",
    "    #predicting using the nets\n",
    "    inputs, labels = test_examples\n",
    "    for j,m in enumerate(models):\n",
    "        if j == 0:\n",
    "            predicted_outputs = nets[j](inputs.float().cuda())\n",
    "        else:\n",
    "            predicted_outputs += nets[j](inputs.float().cuda())\n",
    "    \n",
    "    #Selecting the label which has the largest outputs\n",
    "    outputs = torch.argmax(predicted_outputs, 1)\n",
    "\n",
    "    #Counting successfully and unsuccessfully predicted cases\n",
    "    for j, n in enumerate(outputs):\n",
    "      if n == labels[j]:\n",
    "        rights += 1\n",
    "      else:\n",
    "        wrongs += 1\n",
    "  #calculate accuracy with the cases we recorded\n",
    "  acc = rights/(rights+wrongs)\n",
    "  #return the accuracy\n",
    "  return acc"
   ]
  },
  {
   "cell_type": "code",
   "execution_count": 10,
   "metadata": {},
   "outputs": [
    {
     "name": "stdout",
     "output_type": "stream",
     "text": [
      "accuracy: 67.16%\n"
     ]
    }
   ],
   "source": [
    "print('accuracy: ' + str(evaluate_2(nets,testDataLoader)*100) + '%')"
   ]
  },
  {
   "cell_type": "code",
   "execution_count": 11,
   "metadata": {},
   "outputs": [
    {
     "name": "stdout",
     "output_type": "stream",
     "text": [
      "accuracy: 62.72%\n"
     ]
    }
   ],
   "source": [
    "print('accuracy: ' + str(evaluate_2(nets[0:2],testDataLoader)*100) + '%')"
   ]
  },
  {
   "cell_type": "code",
   "execution_count": 12,
   "metadata": {},
   "outputs": [
    {
     "name": "stdout",
     "output_type": "stream",
     "text": [
      "accuracy: 64.31%\n"
     ]
    }
   ],
   "source": [
    "print('accuracy: ' + str(evaluate_2(nets[0:3],testDataLoader)*100) + '%')"
   ]
  },
  {
   "cell_type": "code",
   "execution_count": 13,
   "metadata": {},
   "outputs": [
    {
     "name": "stdout",
     "output_type": "stream",
     "text": [
      "accuracy: 65.35%\n"
     ]
    }
   ],
   "source": [
    "print('accuracy: ' + str(evaluate_2(nets[0:4],testDataLoader)*100) + '%')"
   ]
  },
  {
   "cell_type": "code",
   "execution_count": 27,
   "metadata": {},
   "outputs": [
    {
     "name": "stdout",
     "output_type": "stream",
     "text": [
      "accuracy: 58.1%\n"
     ]
    }
   ],
   "source": [
    "print('accuracy: ' + str(round(evaluate_2([nets[0]],testDataLoader)*100,2)) + '%')"
   ]
  },
  {
   "cell_type": "code",
   "execution_count": 33,
   "metadata": {},
   "outputs": [
    {
     "data": {
      "image/png": "[encoded data removed]",
      "text/plain": [
       "<Figure size 432x288 with 1 Axes>"
      ]
     },
     "metadata": {
      "needs_background": "light"
     },
     "output_type": "display_data"
    }
   ],
   "source": [
    "res = [evaluate_2([nets[0]],testDataLoader)*100]\n",
    "for i in range(1,10):\n",
    "    res.append(round(evaluate_2(nets[0:i+1],testDataLoader)*100,2))\n",
    "plt.ylim(ymin = 56, ymax=70)\n",
    "plt.plot([1,2,3,4,5,6,7,8,9,10],res,'-',linewidth=3)\n",
    "plt.xlabel('small nets number')\n",
    "plt.ylabel('accuracy/%')\n",
    "plt.grid(True)"
   ]
  },
  {
   "cell_type": "code",
   "execution_count": null,
   "metadata": {},
   "outputs": [],
   "source": []
  }
 ],
 "metadata": {
  "accelerator": "GPU",
  "colab": {
   "machine_shape": "hm",
   "name": "AML_final.ipynb",
   "provenance": []
  },
  "kernelspec": {
   "display_name": "Python 3",
   "language": "python",
   "name": "python3"
  },
  "language_info": {
   "codemirror_mode": {
    "name": "ipython",
    "version": 3
   },
   "file_extension": ".py",
   "mimetype": "text/x-python",
   "name": "python",
   "nbconvert_exporter": "python",
   "pygments_lexer": "ipython3",
   "version": "3.8.6"
  }
 },
 "nbformat": 4,
 "nbformat_minor": 1
}
