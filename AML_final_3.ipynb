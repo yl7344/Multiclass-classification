{
  "nbformat": 4,
  "nbformat_minor": 0,
  "metadata": {
    "colab": {
      "name": "AML_final.ipynb",
      "provenance": [],
      "machine_shape": "hm"
    },
    "kernelspec": {
      "name": "python3",
      "display_name": "Python 3"
    },
    "language_info": {
      "name": "python"
    },
    "accelerator": "GPU"
  },
  "cells": [
    {
      "cell_type": "code",
      "metadata": {
        "colab": {
          "base_uri": "https://localhost:8080/"
        },
        "id": "Unc8tw9n595w",
        "outputId": "bd59063d-471b-43ef-b7c5-f128f56851d6"
      },
      "source": [
        "import torch\n",
        "import torchvision\n",
        "import numpy as np\n",
        "import matplotlib.pyplot as plt\n",
        "import torch.nn as nn\n",
        "import torch.nn.functional as F\n",
        "from torchvision.datasets import CIFAR100\n",
        "import torchvision.transforms as transforms\n",
        "from torchvision.utils import make_grid\n",
        "from torch.utils.data.dataloader import DataLoader\n",
        "from torch.utils.data import random_split,ConcatDataset\n",
        "from torchsummary import summary\n",
        "\n",
        "import ResNet\n",
        "import ResNet1\n",
        "import data\n",
        "import CNN\n",
        "import evaluate\n",
        "import train"
      ],
      "execution_count": 1,
      "outputs": [
        {
          "output_type": "stream",
          "text": [
            "Files already downloaded and verified\n"
          ],
          "name": "stdout"
        }
      ]
    },
    {
      "cell_type": "code",
      "metadata": {
        "colab": {
          "base_uri": "https://localhost:8080/",
          "height": 606
        },
        "id": "y-seD7dXbjMw",
        "outputId": "9aaf0913-d7c2-4067-8658-8ae1ec4bc22b"
      },
      "source": [
        "nets, train_loss_his, test_loss_his = train.train_smallNet(10000,1000,5)"
      ],
      "execution_count": 4,
      "outputs": [
        {
          "output_type": "stream",
          "text": [
            "iter:    100, train loss: 4.693605713844299, test_loss: 184.72541332244873\n",
            "accuracy: 1.8800000000000001%\n",
            "iter:    200, train loss: 4.590692648887634, test_loss: 182.6784429550171\n",
            "accuracy: 2.69%\n",
            "iter:    300, train loss: 4.538765845298767, test_loss: 180.56539297103882\n",
            "accuracy: 2.67%\n",
            "iter:    400, train loss: 4.4893702793121335, test_loss: 178.44577646255493\n",
            "accuracy: 3.6700000000000004%\n",
            "iter:    500, train loss: 4.441256403923035, test_loss: 176.0844464302063\n",
            "accuracy: 4.5%\n",
            "iter:    600, train loss: 4.3743652248382565, test_loss: 174.16680431365967\n",
            "accuracy: 4.89%\n",
            "iter:    700, train loss: 4.336166162490844, test_loss: 172.2370376586914\n",
            "accuracy: 5.28%\n"
          ],
          "name": "stdout"
        },
        {
          "output_type": "error",
          "ename": "KeyboardInterrupt",
          "evalue": "ignored",
          "traceback": [
            "\u001b[0;31m---------------------------------------------------------------------------\u001b[0m",
            "\u001b[0;31mKeyboardInterrupt\u001b[0m                         Traceback (most recent call last)",
            "\u001b[0;32m<ipython-input-4-c5d88248da75>\u001b[0m in \u001b[0;36m<module>\u001b[0;34m()\u001b[0m\n\u001b[0;32m----> 1\u001b[0;31m \u001b[0mnets\u001b[0m\u001b[0;34m,\u001b[0m \u001b[0mtrain_loss_his\u001b[0m\u001b[0;34m,\u001b[0m \u001b[0mtest_loss_his\u001b[0m \u001b[0;34m=\u001b[0m \u001b[0mtrain\u001b[0m\u001b[0;34m.\u001b[0m\u001b[0mtrain_smallNet\u001b[0m\u001b[0;34m(\u001b[0m\u001b[0;36m1000\u001b[0m\u001b[0;34m,\u001b[0m\u001b[0;36m100\u001b[0m\u001b[0;34m,\u001b[0m\u001b[0;36m5\u001b[0m\u001b[0;34m)\u001b[0m\u001b[0;34m\u001b[0m\u001b[0;34m\u001b[0m\u001b[0m\n\u001b[0m",
            "\u001b[0;32m/content/train.py\u001b[0m in \u001b[0;36mtrain_smallNet\u001b[0;34m(total_iter, epochs, numbers)\u001b[0m\n\u001b[1;32m     70\u001b[0m     \u001b[0mtest_loss_his\u001b[0m \u001b[0;34m=\u001b[0m \u001b[0;34m[\u001b[0m\u001b[0;34m[\u001b[0m\u001b[0;34m]\u001b[0m \u001b[0;32mfor\u001b[0m \u001b[0mi\u001b[0m \u001b[0;32min\u001b[0m \u001b[0mrange\u001b[0m\u001b[0;34m(\u001b[0m\u001b[0mnumbers\u001b[0m\u001b[0;34m)\u001b[0m\u001b[0;34m]\u001b[0m\u001b[0;34m\u001b[0m\u001b[0;34m\u001b[0m\u001b[0m\n\u001b[1;32m     71\u001b[0m     \u001b[0;32mfor\u001b[0m \u001b[0mi\u001b[0m \u001b[0;32min\u001b[0m \u001b[0mrange\u001b[0m\u001b[0;34m(\u001b[0m\u001b[0mnumbers\u001b[0m\u001b[0;34m)\u001b[0m\u001b[0;34m:\u001b[0m\u001b[0;34m\u001b[0m\u001b[0;34m\u001b[0m\u001b[0m\n\u001b[0;32m---> 72\u001b[0;31m         \u001b[0mtrain_loss_his\u001b[0m\u001b[0;34m,\u001b[0m\u001b[0mtest_loss_his\u001b[0m \u001b[0;34m=\u001b[0m \u001b[0mtrain\u001b[0m\u001b[0;34m(\u001b[0m\u001b[0mnets\u001b[0m\u001b[0;34m[\u001b[0m\u001b[0mi\u001b[0m\u001b[0;34m]\u001b[0m\u001b[0;34m,\u001b[0m\u001b[0mtrainDataLoader\u001b[0m\u001b[0;34m,\u001b[0m\u001b[0mtestDataLoader\u001b[0m\u001b[0;34m,\u001b[0m\u001b[0mloss\u001b[0m\u001b[0;34m,\u001b[0m\u001b[0moptimizer\u001b[0m\u001b[0;34m[\u001b[0m\u001b[0mi\u001b[0m\u001b[0;34m]\u001b[0m\u001b[0;34m,\u001b[0m\u001b[0mtotal_iter\u001b[0m\u001b[0;34m,\u001b[0m\u001b[0mepochs\u001b[0m\u001b[0;34m)\u001b[0m\u001b[0;34m\u001b[0m\u001b[0;34m\u001b[0m\u001b[0m\n\u001b[0m\u001b[1;32m     73\u001b[0m \u001b[0;34m\u001b[0m\u001b[0m\n\u001b[1;32m     74\u001b[0m     \u001b[0;32mreturn\u001b[0m \u001b[0mnets\u001b[0m\u001b[0;34m,\u001b[0m \u001b[0mtrain_loss_his\u001b[0m\u001b[0;34m,\u001b[0m\u001b[0mtest_loss_his\u001b[0m\u001b[0;34m\u001b[0m\u001b[0;34m\u001b[0m\u001b[0m\n",
            "\u001b[0;32m/content/train.py\u001b[0m in \u001b[0;36mtrain\u001b[0;34m(model, train, test, loss_fn, optimizer, max_iter, watch_iter)\u001b[0m\n\u001b[1;32m     22\u001b[0m             \u001b[0ml\u001b[0m \u001b[0;34m=\u001b[0m \u001b[0mloss_fn\u001b[0m\u001b[0;34m(\u001b[0m\u001b[0mtrain_outputs\u001b[0m\u001b[0;34m,\u001b[0m \u001b[0mtrain_labels\u001b[0m\u001b[0;34m)\u001b[0m\u001b[0;34m\u001b[0m\u001b[0;34m\u001b[0m\u001b[0m\n\u001b[1;32m     23\u001b[0m             \u001b[0mloss\u001b[0m \u001b[0;34m+=\u001b[0m \u001b[0ml\u001b[0m\u001b[0;34m.\u001b[0m\u001b[0mitem\u001b[0m\u001b[0;34m(\u001b[0m\u001b[0;34m)\u001b[0m\u001b[0;34m\u001b[0m\u001b[0;34m\u001b[0m\u001b[0m\n\u001b[0;32m---> 24\u001b[0;31m             \u001b[0moptimizer\u001b[0m\u001b[0;34m.\u001b[0m\u001b[0mzero_grad\u001b[0m\u001b[0;34m(\u001b[0m\u001b[0;34m)\u001b[0m\u001b[0;34m\u001b[0m\u001b[0;34m\u001b[0m\u001b[0m\n\u001b[0m\u001b[1;32m     25\u001b[0m             \u001b[0ml\u001b[0m\u001b[0;34m.\u001b[0m\u001b[0mbackward\u001b[0m\u001b[0;34m(\u001b[0m\u001b[0;34m)\u001b[0m\u001b[0;34m\u001b[0m\u001b[0;34m\u001b[0m\u001b[0m\n\u001b[1;32m     26\u001b[0m             \u001b[0moptimizer\u001b[0m\u001b[0;34m.\u001b[0m\u001b[0mstep\u001b[0m\u001b[0;34m(\u001b[0m\u001b[0;34m)\u001b[0m\u001b[0;34m\u001b[0m\u001b[0;34m\u001b[0m\u001b[0m\n",
            "\u001b[0;32m/usr/local/lib/python3.7/dist-packages/torch/optim/optimizer.py\u001b[0m in \u001b[0;36mzero_grad\u001b[0;34m(self, set_to_none)\u001b[0m\n\u001b[1;32m    207\u001b[0m             \u001b[0;32mfor\u001b[0m \u001b[0mgroup\u001b[0m \u001b[0;32min\u001b[0m \u001b[0mself\u001b[0m\u001b[0;34m.\u001b[0m\u001b[0mparam_groups\u001b[0m\u001b[0;34m:\u001b[0m\u001b[0;34m\u001b[0m\u001b[0;34m\u001b[0m\u001b[0m\n\u001b[1;32m    208\u001b[0m                 \u001b[0;32mfor\u001b[0m \u001b[0mp\u001b[0m \u001b[0;32min\u001b[0m \u001b[0mgroup\u001b[0m\u001b[0;34m[\u001b[0m\u001b[0;34m'params'\u001b[0m\u001b[0;34m]\u001b[0m\u001b[0;34m:\u001b[0m\u001b[0;34m\u001b[0m\u001b[0;34m\u001b[0m\u001b[0m\n\u001b[0;32m--> 209\u001b[0;31m                     \u001b[0;32mif\u001b[0m \u001b[0mp\u001b[0m\u001b[0;34m.\u001b[0m\u001b[0mgrad\u001b[0m \u001b[0;32mis\u001b[0m \u001b[0;32mnot\u001b[0m \u001b[0;32mNone\u001b[0m\u001b[0;34m:\u001b[0m\u001b[0;34m\u001b[0m\u001b[0;34m\u001b[0m\u001b[0m\n\u001b[0m\u001b[1;32m    210\u001b[0m                         \u001b[0;32mif\u001b[0m \u001b[0mset_to_none\u001b[0m\u001b[0;34m:\u001b[0m\u001b[0;34m\u001b[0m\u001b[0;34m\u001b[0m\u001b[0m\n\u001b[1;32m    211\u001b[0m                             \u001b[0mp\u001b[0m\u001b[0;34m.\u001b[0m\u001b[0mgrad\u001b[0m \u001b[0;34m=\u001b[0m \u001b[0;32mNone\u001b[0m\u001b[0;34m\u001b[0m\u001b[0;34m\u001b[0m\u001b[0m\n",
            "\u001b[0;32m/usr/local/lib/python3.7/dist-packages/torch/tensor.py\u001b[0m in \u001b[0;36mgrad\u001b[0;34m(self)\u001b[0m\n\u001b[1;32m    916\u001b[0m             \u001b[0;32mreturn\u001b[0m \u001b[0mhandle_torch_function\u001b[0m\u001b[0;34m(\u001b[0m\u001b[0mTensor\u001b[0m\u001b[0;34m.\u001b[0m\u001b[0mgrad\u001b[0m\u001b[0;34m.\u001b[0m\u001b[0m__get__\u001b[0m\u001b[0;34m,\u001b[0m \u001b[0;34m(\u001b[0m\u001b[0mself\u001b[0m\u001b[0;34m,\u001b[0m\u001b[0;34m)\u001b[0m\u001b[0;34m,\u001b[0m \u001b[0mself\u001b[0m\u001b[0;34m)\u001b[0m  \u001b[0;31m# type: ignore[attr-defined]\u001b[0m\u001b[0;34m\u001b[0m\u001b[0;34m\u001b[0m\u001b[0m\n\u001b[1;32m    917\u001b[0m \u001b[0;34m\u001b[0m\u001b[0m\n\u001b[0;32m--> 918\u001b[0;31m         \u001b[0;32mif\u001b[0m \u001b[0mself\u001b[0m\u001b[0;34m.\u001b[0m\u001b[0mrequires_grad\u001b[0m \u001b[0;32mand\u001b[0m \u001b[0;32mnot\u001b[0m \u001b[0mhasattr\u001b[0m\u001b[0;34m(\u001b[0m\u001b[0mself\u001b[0m\u001b[0;34m,\u001b[0m \u001b[0;34m\"retains_grad\"\u001b[0m\u001b[0;34m)\u001b[0m \u001b[0;32mand\u001b[0m \u001b[0;32mnot\u001b[0m \u001b[0mself\u001b[0m\u001b[0;34m.\u001b[0m\u001b[0mis_leaf\u001b[0m \u001b[0;32mand\u001b[0m \u001b[0mself\u001b[0m\u001b[0;34m.\u001b[0m\u001b[0m_grad\u001b[0m \u001b[0;32mis\u001b[0m \u001b[0;32mNone\u001b[0m\u001b[0;34m:\u001b[0m\u001b[0;34m\u001b[0m\u001b[0;34m\u001b[0m\u001b[0m\n\u001b[0m\u001b[1;32m    919\u001b[0m             warnings.warn(\"The .grad attribute of a Tensor that is not a leaf Tensor is being accessed. Its .grad \"\n\u001b[1;32m    920\u001b[0m                           \u001b[0;34m\"attribute won't be populated during autograd.backward(). If you indeed want the gradient \"\u001b[0m\u001b[0;34m\u001b[0m\u001b[0;34m\u001b[0m\u001b[0m\n",
            "\u001b[0;31mKeyboardInterrupt\u001b[0m: "
          ]
        }
      ]
    },
    {
      "cell_type": "code",
      "metadata": {
        "id": "ml9YVQ2P5wpq"
      },
      "source": [
        "device = torch.device(\"cuda\" if torch.cuda.is_available() else \"cpu\")"
      ],
      "execution_count": 2,
      "outputs": []
    },
    {
      "cell_type": "code",
      "metadata": {
        "id": "FTmYzZ59AEaU"
      },
      "source": [
        "net1 = ResNet1.ResNet(ResNet.BasicBlock, [2, 2, 2, 2],100).to(device)"
      ],
      "execution_count": 26,
      "outputs": []
    },
    {
      "cell_type": "code",
      "metadata": {
        "id": "SOoh9qOdxfGv"
      },
      "source": [
        "net2 = ResNet.resnet34(100).to(device)"
      ],
      "execution_count": 31,
      "outputs": []
    },
    {
      "cell_type": "code",
      "metadata": {
        "colab": {
          "base_uri": "https://localhost:8080/"
        },
        "id": "tMb_3trYYXKm",
        "outputId": "88ba065a-44a7-4d71-921a-fc78ae41b902"
      },
      "source": [
        "\n",
        "summary(net1, (3, 32, 32))"
      ],
      "execution_count": 28,
      "outputs": [
        {
          "output_type": "stream",
          "text": [
            "----------------------------------------------------------------\n",
            "        Layer (type)               Output Shape         Param #\n",
            "================================================================\n",
            "            Conv2d-1            [-1, 8, 32, 32]             216\n",
            "       BatchNorm2d-2            [-1, 8, 32, 32]              16\n",
            "              ReLU-3            [-1, 8, 32, 32]               0\n",
            "            Conv2d-4            [-1, 8, 32, 32]             576\n",
            "       BatchNorm2d-5            [-1, 8, 32, 32]              16\n",
            "              ReLU-6            [-1, 8, 32, 32]               0\n",
            "            Conv2d-7            [-1, 8, 32, 32]             576\n",
            "       BatchNorm2d-8            [-1, 8, 32, 32]              16\n",
            "        BasicBlock-9            [-1, 8, 32, 32]               0\n",
            "           Conv2d-10            [-1, 8, 16, 16]             576\n",
            "      BatchNorm2d-11            [-1, 8, 16, 16]              16\n",
            "             ReLU-12            [-1, 8, 16, 16]               0\n",
            "           Conv2d-13            [-1, 8, 16, 16]             576\n",
            "      BatchNorm2d-14            [-1, 8, 16, 16]              16\n",
            "           Conv2d-15            [-1, 8, 16, 16]              64\n",
            "      BatchNorm2d-16            [-1, 8, 16, 16]              16\n",
            "       BasicBlock-17            [-1, 8, 16, 16]               0\n",
            "           Conv2d-18             [-1, 16, 8, 8]           1,152\n",
            "      BatchNorm2d-19             [-1, 16, 8, 8]              32\n",
            "             ReLU-20             [-1, 16, 8, 8]               0\n",
            "           Conv2d-21             [-1, 16, 8, 8]           2,304\n",
            "      BatchNorm2d-22             [-1, 16, 8, 8]              32\n",
            "           Conv2d-23             [-1, 16, 8, 8]             128\n",
            "      BatchNorm2d-24             [-1, 16, 8, 8]              32\n",
            "       BasicBlock-25             [-1, 16, 8, 8]               0\n",
            "           Conv2d-26             [-1, 32, 4, 4]           4,608\n",
            "      BatchNorm2d-27             [-1, 32, 4, 4]              64\n",
            "             ReLU-28             [-1, 32, 4, 4]               0\n",
            "           Conv2d-29             [-1, 32, 4, 4]           9,216\n",
            "      BatchNorm2d-30             [-1, 32, 4, 4]              64\n",
            "           Conv2d-31             [-1, 32, 4, 4]             512\n",
            "      BatchNorm2d-32             [-1, 32, 4, 4]              64\n",
            "       BasicBlock-33             [-1, 32, 4, 4]               0\n",
            "AdaptiveAvgPool2d-34             [-1, 32, 1, 1]               0\n",
            "           Linear-35                  [-1, 100]           3,300\n",
            "          Softmax-36                  [-1, 100]               0\n",
            "================================================================\n",
            "Total params: 24,188\n",
            "Trainable params: 24,188\n",
            "Non-trainable params: 0\n",
            "----------------------------------------------------------------\n",
            "Input size (MB): 0.01\n",
            "Forward/backward pass size (MB): 0.78\n",
            "Params size (MB): 0.09\n",
            "Estimated Total Size (MB): 0.89\n",
            "----------------------------------------------------------------\n"
          ],
          "name": "stdout"
        }
      ]
    },
    {
      "cell_type": "code",
      "metadata": {
        "colab": {
          "base_uri": "https://localhost:8080/"
        },
        "id": "BlXgiI_dYmh8",
        "outputId": "848a8f3e-9990-4a1c-c572-92c4165d5b4c"
      },
      "source": [
        "summary(net2, (3, 32, 32))"
      ],
      "execution_count": 29,
      "outputs": [
        {
          "output_type": "stream",
          "text": [
            "----------------------------------------------------------------\n",
            "        Layer (type)               Output Shape         Param #\n",
            "================================================================\n",
            "            Conv2d-1           [-1, 64, 32, 32]           1,728\n",
            "       BatchNorm2d-2           [-1, 64, 32, 32]             128\n",
            "              ReLU-3           [-1, 64, 32, 32]               0\n",
            "            Conv2d-4           [-1, 64, 32, 32]          36,864\n",
            "       BatchNorm2d-5           [-1, 64, 32, 32]             128\n",
            "              ReLU-6           [-1, 64, 32, 32]               0\n",
            "            Conv2d-7           [-1, 64, 32, 32]          36,864\n",
            "       BatchNorm2d-8           [-1, 64, 32, 32]             128\n",
            "        BasicBlock-9           [-1, 64, 32, 32]               0\n",
            "           Conv2d-10           [-1, 64, 32, 32]          36,864\n",
            "      BatchNorm2d-11           [-1, 64, 32, 32]             128\n",
            "             ReLU-12           [-1, 64, 32, 32]               0\n",
            "           Conv2d-13           [-1, 64, 32, 32]          36,864\n",
            "      BatchNorm2d-14           [-1, 64, 32, 32]             128\n",
            "       BasicBlock-15           [-1, 64, 32, 32]               0\n",
            "           Conv2d-16          [-1, 128, 16, 16]          73,728\n",
            "      BatchNorm2d-17          [-1, 128, 16, 16]             256\n",
            "             ReLU-18          [-1, 128, 16, 16]               0\n",
            "           Conv2d-19          [-1, 128, 16, 16]         147,456\n",
            "      BatchNorm2d-20          [-1, 128, 16, 16]             256\n",
            "           Conv2d-21          [-1, 128, 16, 16]           8,192\n",
            "      BatchNorm2d-22          [-1, 128, 16, 16]             256\n",
            "       BasicBlock-23          [-1, 128, 16, 16]               0\n",
            "           Conv2d-24          [-1, 128, 16, 16]         147,456\n",
            "      BatchNorm2d-25          [-1, 128, 16, 16]             256\n",
            "             ReLU-26          [-1, 128, 16, 16]               0\n",
            "           Conv2d-27          [-1, 128, 16, 16]         147,456\n",
            "      BatchNorm2d-28          [-1, 128, 16, 16]             256\n",
            "       BasicBlock-29          [-1, 128, 16, 16]               0\n",
            "           Conv2d-30            [-1, 256, 8, 8]         294,912\n",
            "      BatchNorm2d-31            [-1, 256, 8, 8]             512\n",
            "             ReLU-32            [-1, 256, 8, 8]               0\n",
            "           Conv2d-33            [-1, 256, 8, 8]         589,824\n",
            "      BatchNorm2d-34            [-1, 256, 8, 8]             512\n",
            "           Conv2d-35            [-1, 256, 8, 8]          32,768\n",
            "      BatchNorm2d-36            [-1, 256, 8, 8]             512\n",
            "       BasicBlock-37            [-1, 256, 8, 8]               0\n",
            "           Conv2d-38            [-1, 256, 8, 8]         589,824\n",
            "      BatchNorm2d-39            [-1, 256, 8, 8]             512\n",
            "             ReLU-40            [-1, 256, 8, 8]               0\n",
            "           Conv2d-41            [-1, 256, 8, 8]         589,824\n",
            "      BatchNorm2d-42            [-1, 256, 8, 8]             512\n",
            "       BasicBlock-43            [-1, 256, 8, 8]               0\n",
            "           Conv2d-44            [-1, 512, 4, 4]       1,179,648\n",
            "      BatchNorm2d-45            [-1, 512, 4, 4]           1,024\n",
            "             ReLU-46            [-1, 512, 4, 4]               0\n",
            "           Conv2d-47            [-1, 512, 4, 4]       2,359,296\n",
            "      BatchNorm2d-48            [-1, 512, 4, 4]           1,024\n",
            "           Conv2d-49            [-1, 512, 4, 4]         131,072\n",
            "      BatchNorm2d-50            [-1, 512, 4, 4]           1,024\n",
            "       BasicBlock-51            [-1, 512, 4, 4]               0\n",
            "           Conv2d-52            [-1, 512, 4, 4]       2,359,296\n",
            "      BatchNorm2d-53            [-1, 512, 4, 4]           1,024\n",
            "             ReLU-54            [-1, 512, 4, 4]               0\n",
            "           Conv2d-55            [-1, 512, 4, 4]       2,359,296\n",
            "      BatchNorm2d-56            [-1, 512, 4, 4]           1,024\n",
            "       BasicBlock-57            [-1, 512, 4, 4]               0\n",
            "AdaptiveAvgPool2d-58            [-1, 512, 1, 1]               0\n",
            "           Linear-59                  [-1, 100]          51,300\n",
            "================================================================\n",
            "Total params: 11,220,132\n",
            "Trainable params: 11,220,132\n",
            "Non-trainable params: 0\n",
            "----------------------------------------------------------------\n",
            "Input size (MB): 0.01\n",
            "Forward/backward pass size (MB): 13.63\n",
            "Params size (MB): 42.80\n",
            "Estimated Total Size (MB): 56.44\n",
            "----------------------------------------------------------------\n"
          ],
          "name": "stdout"
        }
      ]
    },
    {
      "cell_type": "code",
      "metadata": {
        "id": "AjCcqyf38U7o"
      },
      "source": [
        "trainDataLoader, testDataLoader =  data.loadData_minClass1(100,1)"
      ],
      "execution_count": 16,
      "outputs": []
    },
    {
      "cell_type": "code",
      "metadata": {
        "id": "qDGxiKmcz49M"
      },
      "source": [
        "loss = nn.CrossEntropyLoss()\n",
        "optimizer = torch.optim.Adam(net.parameters(), lr=0.0001)  \n"
      ],
      "execution_count": 17,
      "outputs": []
    },
    {
      "cell_type": "code",
      "metadata": {
        "id": "UpQLdM_8CQSt"
      },
      "source": [
        "def evaluate(model,dataloader):\n",
        "  acc = 0.0\n",
        "  rights = 0\n",
        "  wrongs = 0\n",
        "  for i, test_examples in enumerate(dataloader, 0):\n",
        "    #predicting using the nets\n",
        "    inputs, labels = test_examples\n",
        "    predicted_outputs = model(inputs.to(device))\n",
        "    #Selecting the label which has the largest outputs\n",
        "    outputs = torch.argmax(predicted_outputs, 1)\n",
        "\n",
        "    #Counting successfully and unsuccessfully predicted cases\n",
        "    for j, n in enumerate(outputs):\n",
        "      if n == labels[j]:\n",
        "        rights += 1\n",
        "      else:\n",
        "        wrongs += 1\n",
        "  #calculate accuracy with the cases we recorded\n",
        "  acc = rights/(rights+wrongs)\n",
        "  #return the accuracy\n",
        "  return acc\n"
      ],
      "execution_count": 7,
      "outputs": []
    },
    {
      "cell_type": "code",
      "metadata": {
        "id": "9IBBl2kdzR3N"
      },
      "source": [
        "def train(model,train,test,loss_fn,optimizer,watch_iter):\n",
        "    total_iter = 0\n",
        "    loss = 0.0\n",
        "\n",
        "    while total_iter < 1000:\n",
        "        for batch in train:\n",
        "            total_iter += 1\n",
        "            train_inputs, train_labels = batch\n",
        "            train_outputs = model(train_inputs.to(device))\n",
        "            l = loss_fn(train_outputs, train_labels.to(device))\n",
        "            loss += l.item()\n",
        "            optimizer.zero_grad()\n",
        "            l.backward()\n",
        "            optimizer.step()\n",
        "\n",
        "            if total_iter % watch_iter == 0:\n",
        "                train_loss = loss / watch_iter\n",
        "                train_loss_his.append(train_loss)\n",
        "                loss = 0.0\n",
        "                for batch in test:\n",
        "                    test_inputs, test_labels = batch\n",
        "                    test_outputs = model(test_inputs.to(device))\n",
        "                    l = loss_fn(test_outputs, test_labels.to(device))\n",
        "                    loss += l.item()\n",
        "                    #optimizer.zero_grad()\n",
        "                    #l.backward()\n",
        "                    #optimizer.step()\n",
        "                test_loss_his.append(loss)\n",
        "                txt = f'iter: {total_iter: 6d}, train loss: {train_loss}, test_loss: {loss}'\n",
        "                print(txt)\n",
        "                print('train accuracy: ' + str(evaluate(model,train)*100) + '%')\n",
        "                print('test accuracy: ' + str(evaluate(model,test)*100) + '%')\n",
        "                loss = 0.0\n",
        "    return"
      ],
      "execution_count": 24,
      "outputs": []
    },
    {
      "cell_type": "code",
      "metadata": {
        "colab": {
          "base_uri": "https://localhost:8080/",
          "height": 296
        },
        "id": "wkbQmBKPQRVv",
        "outputId": "c949113f-3610-448d-b63e-4a8101e7c956"
      },
      "source": [
        "plt.plot(range(len(train_loss_his)),train_loss_his,'-',linewidth=3,label='Train loss')\n",
        "plt.plot(range(len(train_loss_his)),test_loss_his,'-',linewidth=3,label='Test loss')\n",
        "plt.xlabel('epoches')\n",
        "plt.ylabel('loss')\n",
        "plt.grid(True)\n",
        "plt.legend()"
      ],
      "execution_count": 19,
      "outputs": [
        {
          "output_type": "execute_result",
          "data": {
            "text/plain": [
              "<matplotlib.legend.Legend at 0x7fb8511c70d0>"
            ]
          },
          "metadata": {
            "tags": []
          },
          "execution_count": 19
        },
        {
          "output_type": "display_data",
          "data": {
            "image/png": "[encoded data removed]",
            "text/plain": [
              "<Figure size 432x288 with 1 Axes>"
            ]
          },
          "metadata": {
            "tags": [],
            "needs_background": "light"
          }
        }
      ]
    },
    {
      "cell_type": "code",
      "metadata": {
        "colab": {
          "base_uri": "https://localhost:8080/"
        },
        "id": "JBpK54pPQfI9",
        "outputId": "8392f272-8a38-4418-c158-99f62b41b883"
      },
      "source": [
        "torch.argmin(torch.tensor(train_loss_his))"
      ],
      "execution_count": 22,
      "outputs": [
        {
          "output_type": "execute_result",
          "data": {
            "text/plain": [
              "tensor(936)"
            ]
          },
          "metadata": {
            "tags": []
          },
          "execution_count": 22
        }
      ]
    },
    {
      "cell_type": "code",
      "metadata": {
        "id": "KZXp-LeJJuBQ"
      },
      "source": [
        "class_2 = \t[['beaver', 'dolphin', 'otter', 'seal', 'whale'],\n",
        "\t['aquarium_fish', 'flatfish', 'ray', 'shark', 'trout'],\n",
        "\t['orchid', 'poppy', 'rose', 'sunflower', 'tulip'],\n",
        "  ['bottle', 'bowl', 'can', 'cup', 'plate'],\n",
        "\t['apple', 'mushroom', 'orange', 'pear', 'sweet_pepper'],\n",
        "\t['clock', 'keyboard', 'lamp', 'telephone', 'television'],\n",
        "  ['bed', 'chair', 'couch', 'table', 'wardrobe'],\n",
        "\t['bee', 'beetle', 'butterfly', 'caterpillar', 'cockroach'],\n",
        "\t['bear', 'leopard', 'lion', 'tiger', 'wolf'],\n",
        "  ['bridge', 'castle', 'house', 'road', 'skyscraper'],\n",
        "\t['cloud', 'forest', 'mountain', 'plain', 'sea'],\n",
        "\t['camel', 'cattle', 'chimpanzee', 'elephant', 'kangaroo'],\n",
        "\t['fox', 'porcupine', 'possum', 'raccoon', 'skunk'],\n",
        "\t['crab', 'lobster', 'snail', 'spider', 'worm'],\n",
        "\t['baby', 'boy', 'girl', 'man', 'woman'],\n",
        "\t['crocodile', 'dinosaur', 'lizard', 'snake', 'turtle'],\n",
        "\t['hamster', 'mouse', 'rabbit', 'shrew', 'squirrel'],\n",
        "\t['maple_tree', 'oak_tree', 'palm_tree', 'pine_tree', 'willow_tree'],\n",
        "\t['bicycle', 'bus', 'motorcycle', 'pickup_truck', 'train'],\n",
        "\t['lawn_mower', 'rocket', 'streetcar', 'tank', 'tractor']]"
      ],
      "execution_count": null,
      "outputs": []
    },
    {
      "cell_type": "code",
      "metadata": {
        "id": "b8zeI0fPBcH6"
      },
      "source": [
        "for i, test_examples in enumerate(trainDataLoader, 0):\n",
        "    inputs, labels = test_examples\n",
        "    for j in range(len(labels)):\n",
        "      if labels[j].item() == 2:\n",
        "        plt.imshow(inputs[j].reshape(32,32,3))\n",
        "        plt.title(labels[j])\n",
        "        break\n",
        "    if i == 2:\n",
        "      break"
      ],
      "execution_count": null,
      "outputs": []
    },
    {
      "cell_type": "code",
      "metadata": {
        "id": "ObtAnmrmC6dW"
      },
      "source": [
        "for i, test_examples in enumerate(testDataLoader, 0):\n",
        "    inputs, labels = test_examples\n",
        "    for j in range(len(labels)):\n",
        "      if labels[j].item() == 2:\n",
        "        plt.imshow(inputs[j].reshape(32,32,3))\n",
        "        plt.title(labels[j])\n",
        "        break\n",
        "    break"
      ],
      "execution_count": null,
      "outputs": []
    },
    {
      "cell_type": "code",
      "metadata": {
        "id": "XyTmgwjbBztC"
      },
      "source": [
        "# Normalize training set together with augmentation\n",
        "transform_train = transforms.Compose([\n",
        "        transforms.RandomCrop(32, padding=4),\n",
        "        transforms.RandomHorizontalFlip(),\n",
        "        transforms.ToTensor(),\n",
        "        transforms.Normalize(mean=[0.507, 0.487, 0.441], std=[0.267, 0.256, 0.276])\n",
        "        ])\n",
        "\n",
        "# Normalize test set same as training set without augmentation\n",
        "transform_test = transforms.Compose([\n",
        "        transforms.ToTensor(),\n",
        "        transforms.Normalize(mean=[0.507, 0.487, 0.441], std=[0.267, 0.256, 0.276])\n",
        "        ])\n",
        "\n",
        "    \n",
        "# Load data\n",
        "train_data = CIFAR100(download=True,root=\"./Cifar100\",transform=transform_train)\n",
        "test_data = CIFAR100(root=\"./Cifar100\",train=False,transform=transform_test)"
      ],
      "execution_count": null,
      "outputs": []
    },
    {
      "cell_type": "code",
      "metadata": {
        "id": "E1j3wI_iFh2E"
      },
      "source": [
        "train_data.classes"
      ],
      "execution_count": null,
      "outputs": []
    },
    {
      "cell_type": "code",
      "metadata": {
        "id": "Pyfq1OiaFkWM"
      },
      "source": [
        "weight_mix = [1.0/(numbers) for i in range(numbers)]\n",
        "L_T_experts = []\n",
        "L_T_leaner = 0\n",
        "L_experts_his = []\n",
        "L_leaner_his = []\n",
        "p_learner = 0\n",
        "lr = 0.5\n",
        "for i in range(numbers):\n",
        "  p = experts_spam[i].predict(x_spam_test[0].reshape(-1,56))\n",
        "  if i == 4:\n",
        "    p = p.argmax()\n",
        "  else:\n",
        "    p = 1 if p>0.5 else 0\n",
        "  p_learner = weight_mix[i]*p\n",
        "  Loss = (y_mix_test[0]-p)**2\n",
        "  L_T_experts.append(Loss)\n",
        "L_T_leaner = (y_mix_test[0]-p_learner)**2\n",
        "#the history of weights needs to be recorded\n",
        "weight_history_mix = []\n",
        "for i in range(6):\n",
        "  weight_history_mix.append([weight_mix[i]])\n",
        "  L_experts_his.append([L_T_experts[i]])\n",
        "L_leaner_his.append(L_T_leaner)"
      ],
      "execution_count": null,
      "outputs": []
    },
    {
      "cell_type": "code",
      "metadata": {
        "colab": {
          "base_uri": "https://localhost:8080/",
          "height": 229
        },
        "id": "qcJl3FsEeORG",
        "outputId": "e20256fc-5b7a-42bb-9aa8-259dc1b996d2"
      },
      "source": [
        "alpha = 0.2\n",
        "for n in range(len(x_mix_test)):\n",
        "  pl = 0\n",
        "  for i in range(6):\n",
        "    if len(x_mix_test[n]) == 56: \n",
        "      p = predict(experts_spam[i],np.array(x_mix_test[n]),56)\n",
        "    else:\n",
        "      p = predict(experts_cloud[i],np.array(x_mix_test[n]),10)\n",
        "    L_T_experts[i] += (y_mix_test[n]-p)**2\n",
        "    pl += p*weight_mix[i]\n",
        "  updated = weight_update(weight_mix,lr,L_T_experts,alpha)\n",
        "  weight_mix = updated\n",
        "  for i in range(6):\n",
        "    weight_history_mix[i].append(weight_mix[i])\n",
        "    L_experts_his[i].append(L_T_experts[i])\n",
        "  L_T_leaner += (y_mix_test[n]-pl)**2\n",
        "  L_leaner_his.append(L_T_leaner)"
      ],
      "execution_count": 3,
      "outputs": [
        {
          "output_type": "error",
          "ename": "NameError",
          "evalue": "ignored",
          "traceback": [
            "\u001b[0;31m---------------------------------------------------------------------------\u001b[0m",
            "\u001b[0;31mNameError\u001b[0m                                 Traceback (most recent call last)",
            "\u001b[0;32m<ipython-input-3-73ff6197a0e7>\u001b[0m in \u001b[0;36m<module>\u001b[0;34m()\u001b[0m\n\u001b[1;32m      1\u001b[0m \u001b[0malpha\u001b[0m \u001b[0;34m=\u001b[0m \u001b[0;36m0.2\u001b[0m\u001b[0;34m\u001b[0m\u001b[0;34m\u001b[0m\u001b[0m\n\u001b[0;32m----> 2\u001b[0;31m \u001b[0;32mfor\u001b[0m \u001b[0mn\u001b[0m \u001b[0;32min\u001b[0m \u001b[0mrange\u001b[0m\u001b[0;34m(\u001b[0m\u001b[0mlen\u001b[0m\u001b[0;34m(\u001b[0m\u001b[0mx_mix_test\u001b[0m\u001b[0;34m)\u001b[0m\u001b[0;34m)\u001b[0m\u001b[0;34m:\u001b[0m\u001b[0;34m\u001b[0m\u001b[0;34m\u001b[0m\u001b[0m\n\u001b[0m\u001b[1;32m      3\u001b[0m   \u001b[0mpl\u001b[0m \u001b[0;34m=\u001b[0m \u001b[0;36m0\u001b[0m\u001b[0;34m\u001b[0m\u001b[0;34m\u001b[0m\u001b[0m\n\u001b[1;32m      4\u001b[0m   \u001b[0;32mfor\u001b[0m \u001b[0mi\u001b[0m \u001b[0;32min\u001b[0m \u001b[0mrange\u001b[0m\u001b[0;34m(\u001b[0m\u001b[0;36m6\u001b[0m\u001b[0;34m)\u001b[0m\u001b[0;34m:\u001b[0m\u001b[0;34m\u001b[0m\u001b[0;34m\u001b[0m\u001b[0m\n\u001b[1;32m      5\u001b[0m     \u001b[0;32mif\u001b[0m \u001b[0mlen\u001b[0m\u001b[0;34m(\u001b[0m\u001b[0mx_mix_test\u001b[0m\u001b[0;34m[\u001b[0m\u001b[0mn\u001b[0m\u001b[0;34m]\u001b[0m\u001b[0;34m)\u001b[0m \u001b[0;34m==\u001b[0m \u001b[0;36m56\u001b[0m\u001b[0;34m:\u001b[0m\u001b[0;34m\u001b[0m\u001b[0;34m\u001b[0m\u001b[0m\n",
            "\u001b[0;31mNameError\u001b[0m: name 'x_mix_test' is not defined"
          ]
        }
      ]
    }
  ]
}