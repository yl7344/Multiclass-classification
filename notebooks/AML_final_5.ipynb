{
  "nbformat": 4,
  "nbformat_minor": 0,
  "metadata": {
    "colab": {
      "name": "AML_final_(1).ipynb",
      "provenance": [],
      "collapsed_sections": [],
      "machine_shape": "hm"
    },
    "kernelspec": {
      "name": "python3",
      "display_name": "Python 3"
    },
    "language_info": {
      "name": "python"
    },
    "accelerator": "GPU",
    "widgets": {
      "application/vnd.jupyter.widget-state+json": {
        "c5449f6df24342deaec61a5042045102": {
          "model_module": "@jupyter-widgets/controls",
          "model_name": "HBoxModel",
          "state": {
            "_view_name": "HBoxView",
            "_dom_classes": [],
            "_model_name": "HBoxModel",
            "_view_module": "@jupyter-widgets/controls",
            "_model_module_version": "1.5.0",
            "_view_count": null,
            "_view_module_version": "1.5.0",
            "box_style": "",
            "layout": "IPY_MODEL_637c5d55d5cd45c1859f7324104c2636",
            "_model_module": "@jupyter-widgets/controls",
            "children": [
              "IPY_MODEL_e5096bfd938c4e7c916ed88dce2c5e00",
              "IPY_MODEL_5cdf58b72d8243b2aaad993c1c6296b9"
            ]
          }
        },
        "637c5d55d5cd45c1859f7324104c2636": {
          "model_module": "@jupyter-widgets/base",
          "model_name": "LayoutModel",
          "state": {
            "_view_name": "LayoutView",
            "grid_template_rows": null,
            "right": null,
            "justify_content": null,
            "_view_module": "@jupyter-widgets/base",
            "overflow": null,
            "_model_module_version": "1.2.0",
            "_view_count": null,
            "flex_flow": null,
            "width": null,
            "min_width": null,
            "border": null,
            "align_items": null,
            "bottom": null,
            "_model_module": "@jupyter-widgets/base",
            "top": null,
            "grid_column": null,
            "overflow_y": null,
            "overflow_x": null,
            "grid_auto_flow": null,
            "grid_area": null,
            "grid_template_columns": null,
            "flex": null,
            "_model_name": "LayoutModel",
            "justify_items": null,
            "grid_row": null,
            "max_height": null,
            "align_content": null,
            "visibility": null,
            "align_self": null,
            "height": null,
            "min_height": null,
            "padding": null,
            "grid_auto_rows": null,
            "grid_gap": null,
            "max_width": null,
            "order": null,
            "_view_module_version": "1.2.0",
            "grid_template_areas": null,
            "object_position": null,
            "object_fit": null,
            "grid_auto_columns": null,
            "margin": null,
            "display": null,
            "left": null
          }
        },
        "e5096bfd938c4e7c916ed88dce2c5e00": {
          "model_module": "@jupyter-widgets/controls",
          "model_name": "FloatProgressModel",
          "state": {
            "_view_name": "ProgressView",
            "style": "IPY_MODEL_13e1950d0f47417db268cce5e1810322",
            "_dom_classes": [],
            "description": "",
            "_model_name": "FloatProgressModel",
            "bar_style": "success",
            "max": 169001437,
            "_view_module": "@jupyter-widgets/controls",
            "_model_module_version": "1.5.0",
            "value": 169001437,
            "_view_count": null,
            "_view_module_version": "1.5.0",
            "orientation": "horizontal",
            "min": 0,
            "description_tooltip": null,
            "_model_module": "@jupyter-widgets/controls",
            "layout": "IPY_MODEL_c5d4487b9d1d4ea9969b0f7b9d5bf240"
          }
        },
        "5cdf58b72d8243b2aaad993c1c6296b9": {
          "model_module": "@jupyter-widgets/controls",
          "model_name": "HTMLModel",
          "state": {
            "_view_name": "HTMLView",
            "style": "IPY_MODEL_0412ea738eaf40a381790bc5488b6da4",
            "_dom_classes": [],
            "description": "",
            "_model_name": "HTMLModel",
            "placeholder": "​",
            "_view_module": "@jupyter-widgets/controls",
            "_model_module_version": "1.5.0",
            "value": " 169001984/? [00:34&lt;00:00, 4838515.12it/s]",
            "_view_count": null,
            "_view_module_version": "1.5.0",
            "description_tooltip": null,
            "_model_module": "@jupyter-widgets/controls",
            "layout": "IPY_MODEL_fde8cc2817024d059b5a0b19b440b1e0"
          }
        },
        "13e1950d0f47417db268cce5e1810322": {
          "model_module": "@jupyter-widgets/controls",
          "model_name": "ProgressStyleModel",
          "state": {
            "_view_name": "StyleView",
            "_model_name": "ProgressStyleModel",
            "description_width": "initial",
            "_view_module": "@jupyter-widgets/base",
            "_model_module_version": "1.5.0",
            "_view_count": null,
            "_view_module_version": "1.2.0",
            "bar_color": null,
            "_model_module": "@jupyter-widgets/controls"
          }
        },
        "c5d4487b9d1d4ea9969b0f7b9d5bf240": {
          "model_module": "@jupyter-widgets/base",
          "model_name": "LayoutModel",
          "state": {
            "_view_name": "LayoutView",
            "grid_template_rows": null,
            "right": null,
            "justify_content": null,
            "_view_module": "@jupyter-widgets/base",
            "overflow": null,
            "_model_module_version": "1.2.0",
            "_view_count": null,
            "flex_flow": null,
            "width": null,
            "min_width": null,
            "border": null,
            "align_items": null,
            "bottom": null,
            "_model_module": "@jupyter-widgets/base",
            "top": null,
            "grid_column": null,
            "overflow_y": null,
            "overflow_x": null,
            "grid_auto_flow": null,
            "grid_area": null,
            "grid_template_columns": null,
            "flex": null,
            "_model_name": "LayoutModel",
            "justify_items": null,
            "grid_row": null,
            "max_height": null,
            "align_content": null,
            "visibility": null,
            "align_self": null,
            "height": null,
            "min_height": null,
            "padding": null,
            "grid_auto_rows": null,
            "grid_gap": null,
            "max_width": null,
            "order": null,
            "_view_module_version": "1.2.0",
            "grid_template_areas": null,
            "object_position": null,
            "object_fit": null,
            "grid_auto_columns": null,
            "margin": null,
            "display": null,
            "left": null
          }
        },
        "0412ea738eaf40a381790bc5488b6da4": {
          "model_module": "@jupyter-widgets/controls",
          "model_name": "DescriptionStyleModel",
          "state": {
            "_view_name": "StyleView",
            "_model_name": "DescriptionStyleModel",
            "description_width": "",
            "_view_module": "@jupyter-widgets/base",
            "_model_module_version": "1.5.0",
            "_view_count": null,
            "_view_module_version": "1.2.0",
            "_model_module": "@jupyter-widgets/controls"
          }
        },
        "fde8cc2817024d059b5a0b19b440b1e0": {
          "model_module": "@jupyter-widgets/base",
          "model_name": "LayoutModel",
          "state": {
            "_view_name": "LayoutView",
            "grid_template_rows": null,
            "right": null,
            "justify_content": null,
            "_view_module": "@jupyter-widgets/base",
            "overflow": null,
            "_model_module_version": "1.2.0",
            "_view_count": null,
            "flex_flow": null,
            "width": null,
            "min_width": null,
            "border": null,
            "align_items": null,
            "bottom": null,
            "_model_module": "@jupyter-widgets/base",
            "top": null,
            "grid_column": null,
            "overflow_y": null,
            "overflow_x": null,
            "grid_auto_flow": null,
            "grid_area": null,
            "grid_template_columns": null,
            "flex": null,
            "_model_name": "LayoutModel",
            "justify_items": null,
            "grid_row": null,
            "max_height": null,
            "align_content": null,
            "visibility": null,
            "align_self": null,
            "height": null,
            "min_height": null,
            "padding": null,
            "grid_auto_rows": null,
            "grid_gap": null,
            "max_width": null,
            "order": null,
            "_view_module_version": "1.2.0",
            "grid_template_areas": null,
            "object_position": null,
            "object_fit": null,
            "grid_auto_columns": null,
            "margin": null,
            "display": null,
            "left": null
          }
        }
      }
    }
  },
  "cells": [
    {
      "cell_type": "code",
      "metadata": {
        "id": "Unc8tw9n595w",
        "colab": {
          "base_uri": "https://localhost:8080/",
          "height": 274,
          "referenced_widgets": [
            "c5449f6df24342deaec61a5042045102",
            "637c5d55d5cd45c1859f7324104c2636",
            "e5096bfd938c4e7c916ed88dce2c5e00",
            "5cdf58b72d8243b2aaad993c1c6296b9",
            "13e1950d0f47417db268cce5e1810322",
            "c5d4487b9d1d4ea9969b0f7b9d5bf240",
            "0412ea738eaf40a381790bc5488b6da4",
            "fde8cc2817024d059b5a0b19b440b1e0"
          ]
        },
        "outputId": "cfccd8e6-7a70-4dab-f57a-608a021b9ad3"
      },
      "source": [
        "\n",
        "!git clone https://www.github.com/yl7344/Multiclass-classification\n",
        "%cd Multiclass-classification\n",
        "!ls\n",
        "\n",
        "import torch\n",
        "import torchvision\n",
        "import numpy as np\n",
        "import matplotlib.pyplot as plt\n",
        "import torch.nn as nn\n",
        "import torch.nn.functional as F\n",
        "from torchvision.datasets import CIFAR100\n",
        "import torchvision.transforms as transforms\n",
        "from torchvision.utils import make_grid\n",
        "from torch.utils.data.dataloader import DataLoader\n",
        "from torch.utils.data import random_split,ConcatDataset\n",
        "\n",
        "import torchvision.models as model\n",
        "import data\n",
        "import ResNet"
      ],
      "execution_count": 1,
      "outputs": [
        {
          "output_type": "stream",
          "text": [
            "Cloning into 'Multiclass-classification'...\n",
            "warning: redirecting to https://github.com/yl7344/Multiclass-classification.git/\n",
            "remote: Enumerating objects: 82, done.\u001b[K\n",
            "remote: Counting objects: 100% (82/82), done.\u001b[K\n",
            "remote: Compressing objects: 100% (78/78), done.\u001b[K\n",
            "remote: Total 82 (delta 33), reused 0 (delta 0), pack-reused 0\u001b[K\n",
            "Unpacking objects: 100% (82/82), done.\n",
            "/content/Multiclass-classification\n",
            "CNN.py\t evaluate.py  pdf\t ResNet1.py  train.py\n",
            "data.py  notebooks    README.md  ResNet.py\n",
            "Downloading https://www.cs.toronto.edu/~kriz/cifar-100-python.tar.gz to ./Cifar100/cifar-100-python.tar.gz\n"
          ],
          "name": "stdout"
        },
        {
          "output_type": "display_data",
          "data": {
            "application/vnd.jupyter.widget-view+json": {
              "model_id": "c5449f6df24342deaec61a5042045102",
              "version_minor": 0,
              "version_major": 2
            },
            "text/plain": [
              "HBox(children=(FloatProgress(value=0.0, max=169001437.0), HTML(value='')))"
            ]
          },
          "metadata": {
            "tags": []
          }
        },
        {
          "output_type": "stream",
          "text": [
            "\n",
            "Extracting ./Cifar100/cifar-100-python.tar.gz to ./Cifar100\n"
          ],
          "name": "stdout"
        }
      ]
    },
    {
      "cell_type": "code",
      "metadata": {
        "id": "ml9YVQ2P5wpq"
      },
      "source": [
        "device = torch.device(\"cuda\" if torch.cuda.is_available() else \"cpu\")"
      ],
      "execution_count": 2,
      "outputs": []
    },
    {
      "cell_type": "code",
      "metadata": {
        "id": "D5WTbL4868iA"
      },
      "source": [
        "def knn(train_data, nth_data, k):\n",
        "    data_num = train_data.shape[0]\n",
        "    distance = np.zeros((data_num,))    \n",
        "    Knn = np.zeros((k,))    \n",
        "    for i in range(data_num):\n",
        "        sub = train_data[i] - train_data[nth_data]\n",
        "        distance[i] = (sub**2).sum()\n",
        "            \n",
        "    for i in range(k):\n",
        "        temp = float(\"inf\")\n",
        "        temp_j = 0\n",
        "        for j in range(distance.shape[0]):\n",
        "            if (j != nth_data) and (distance[j] < temp):\n",
        "                temp = distance[j]\n",
        "                temp_j = j\n",
        "        distance[temp_j] = float(\"inf\")\n",
        "        Knn[i] = temp_j\n",
        "    return Knn   \n",
        "            \n",
        "def knn1(train_data, test_data, k):\n",
        "    data_num = train_data.shape[0]\n",
        "    distance =np.zeros((data_num,))\n",
        "    Knn = np.zeros((k,))\n",
        "    for i in range(data_num):\n",
        "        sub = train_data[i] - test_data\n",
        "        distance[i] = (sub**2).sum()\n",
        "    \n",
        "    for i in range(k):\n",
        "        temp = float(\"inf\")\n",
        "        temp_j = 0\n",
        "        for j in range(distance.shape[0]):\n",
        "            if distance[j] < temp:\n",
        "                temp = distance[j]\n",
        "                temp_j = j\n",
        "        distance[temp_j] = float(\"inf\")\n",
        "        Knn[i] = temp_j\n",
        "    return Knn"
      ],
      "execution_count": 13,
      "outputs": []
    },
    {
      "cell_type": "code",
      "metadata": {
        "id": "IWSvC_G8g1WT"
      },
      "source": [
        "\n",
        "\n",
        "\n",
        "#import sampleProcess as sp\n",
        "#from sklearn.model_selection import KFold\n",
        "\n",
        " \n",
        "#Structure of ML_KNN  \n",
        "#reference: https://github.com/hinanmu/MLKNN/blob/master/mlknn.py  \n",
        "class ML_KNN(object):\n",
        "    s = 1\n",
        "    k = 10\n",
        "    labels_num = 0\n",
        "    train_data_num = 0\n",
        "    train_data = np.array([])\n",
        "    train_target = np.array([])\n",
        "    #test_data = np.array([])\n",
        "    #test_target = np.array([])\n",
        "    rtl = np.array([])    \n",
        "    Ph1 = np.array([])\n",
        "    Ph0 = np.array([])\n",
        "    Peh1 = np.array([])\n",
        "    Peh0 = np.array([])\n",
        "    predict_labels = np.array([])\n",
        "    def __init__(self, _train_data, _train_target, _k):\n",
        "        self.train_data = _train_data\n",
        "        self.train_target = _train_target\n",
        "        self.k = _k\n",
        "        self.labels_num = 100\n",
        "        self.train_data_num = 250 #self.train_data.size()\n",
        "        self.Ph1 = np.zeros(20)\n",
        "        self.Ph0 = np.zeros((20,))\n",
        "        self.Peh1 = np.zeros((20, self.k + 1))\n",
        "        self.Peh0 = np.zeros((20, self.k + 1))\n",
        "    \n",
        "    def fit(self):\n",
        "        for i in range(self.labels_num):\n",
        "            y = 0\n",
        "            for j in range(self.train_data_num):\n",
        "              print(self.train_target)\n",
        "              if self.train_target[i] == 1:\n",
        "                    y = y + 1\n",
        "            self.Ph1[i] = (self.s + y)/(self.s*2 + self.train_data_num)\n",
        "        self.Ph0 = 1 - self.Ph1\n",
        "                   \n",
        "        for i in range(self.labels_num):\n",
        "            c1 = np.zeros((self.k + 1,))\n",
        "            c0 = np.zeros((self.k + 1,))\n",
        "            for j in range(self.train_data_num):\n",
        "                temp = 0\n",
        "                KNN = knn(self.train_data, j, self.k)\n",
        "                for k in range(self.k):\n",
        "                    if self.train_target[int(KNN[k])][i].item() == 1:\n",
        "                        temp = temp + 1\n",
        "                if self.train_target[j][i].item() == 1:\n",
        "                    c1[temp] = c1[temp] + 1\n",
        "                else:\n",
        "                    c0[temp] = c0[temp] + 1\n",
        "            \n",
        "            for l in range(self.k + 1):\n",
        "                self.Peh1[i][l] = (self.s + c1[l])/(self.s*(self.k + 1) + c1.sum())\n",
        "                self.Peh0[i][l] = (self.s + c0[l])/(self.s*(self.k + 1) + c0.sum())\n",
        "                \n",
        "            \n",
        "    def predict(self, _test_data):\n",
        "        self.rtl = np.zeros((_test_data.shape[0], self.labels_num))\n",
        "        test_data_num = _test_data.shape[0]\n",
        "        self.predict_labels = np.zeros((test_data_num, self.labels_num))\n",
        "        for i in range(test_data_num):\n",
        "            KNN = knn1(self.train_data, _test_data[i], self.k)\n",
        "            for j in range(self.labels_num):\n",
        "                temp = 0\n",
        "                y1 = 0\n",
        "                y0 = 0\n",
        "                for k in range(self.k):\n",
        "                    if self.train_target[int(KNN[k])][j].item() == 1:\n",
        "                        temp = temp + 1\n",
        "                y1 = self.Ph1[j]*self.Peh1[j][temp]\n",
        "                y0 = self.Ph0[j]*self.Peh0[j][temp]\n",
        "                self.rtl[i][j] = self.Ph1[j]*self.Peh1[j][temp]/(self.Ph1[j]*self.Peh1[j][temp] + self.Ph0[j]*self.Peh0[j][temp])\n",
        "                if y1 > y0:\n",
        "                    self.predict_labels[i][j] = 1 \n",
        "                else:\n",
        "                    self.predict_labels[i][j] = 0\n",
        "        #print(self.predict_labels)\n",
        "        return self.predict_labels"
      ],
      "execution_count": 14,
      "outputs": []
    },
    {
      "cell_type": "code",
      "metadata": {
        "id": "gXEWJ2uOhFl2"
      },
      "source": [
        ""
      ],
      "execution_count": null,
      "outputs": []
    },
    {
      "cell_type": "code",
      "metadata": {
        "id": "UpQLdM_8CQSt"
      },
      "source": [
        "def evaluate(model,dataloader):\n",
        "  acc = 0.0\n",
        "  rights = 0\n",
        "  wrongs = 0\n",
        "  for i, test_examples in enumerate(dataloader, 0):\n",
        "    #predicting using the nets\n",
        "    inputs, labels = test_examples\n",
        "    predicted_outputs = model(inputs.to(device))\n",
        "    #Selecting the label which has the largest outputs\n",
        "    outputs = torch.argmax(predicted_outputs, 1)\n",
        "\n",
        "    #Counting successfully and unsuccessfully predicted cases\n",
        "    for j, n in enumerate(outputs):\n",
        "      if n == labels[j]:\n",
        "        rights += 1\n",
        "      else:\n",
        "        wrongs += 1\n",
        "  #calculate accuracy with the cases we recorded\n",
        "  acc = rights/(rights+wrongs)\n",
        "  #return the accuracy\n",
        "  return acc\n"
      ],
      "execution_count": 5,
      "outputs": []
    },
    {
      "cell_type": "code",
      "metadata": {
        "id": "IxmgdD2b93rw"
      },
      "source": [
        "def train_knn(nets,train,test,loss_fn,optimizer,max_iter,watch_iter,number):\n",
        "    total_iter = 0\n",
        "    loss = 0.0\n",
        "    train_loss_his = [[] for i in range(numbers)]\n",
        "    test_loss_his = [[] for i in range(numbers)]\n",
        "    #nets = [ResNet.ResNet(ResNet.BasicBlock, [1, 1, 1, 1],100).to(device) for i in range(numbers)]\n",
        "    total_train_loss = []\n",
        "    total_test_loss = []\n",
        "    while total_iter < max_iter:\n",
        "        for batch in train:\n",
        "            total_iter += 1\n",
        "            train_inputs, train_labels = batch\n",
        "            \n",
        "            train_inputs, train_labels = train_inputs.to(device), train_labels.to(device)\n",
        "            mlKnn = ML_KNN(train_inputs, train_labels, 10)\n",
        "            print(train_inputs.shape)\n",
        "            for i in range(list(train_labels.size())[0]):\n",
        "              superclass = int(train_labels[i].item()/20)\n",
        "              #print(superclass)\n",
        "              #optimizer = \n",
        "              model = nets[superclass]\n",
        "              train_outputs = model(train_inputs)\n",
        "              l = loss_fn(train_outputs, train_labels)\n",
        "              loss += l.item()\n",
        "              optimizer[superclass].zero_grad()\n",
        "              l.backward()\n",
        "              optimizer[superclass].step()\n",
        "              train_loss_his[super_label].append(l.item())\n",
        "            mlKnn.fit()\n",
        "            if total_iter % watch_iter == 0:\n",
        "                train_loss = loss / watch_iter\n",
        "                total_train_loss.append(train_loss)\n",
        "                loss = 0.0\n",
        "                for batch in test:\n",
        "                    test_inputs, test_labels = batch\n",
        "                    test_inputs, test_labels = test_inputs.to(device), test_labels.to(device)\n",
        "                    super_label = mlKnn.predict(test_inputs)\n",
        "                    for i in range(list(test_labels.size())[0]):\n",
        "                      super_label = int(mlKnn.predict(test_inputs[i]))\n",
        "                      #optimizer = optimizer[super_label]\n",
        "                      model = nets[super_label]\n",
        "                      test_outputs = model(test_inputs)\n",
        "              \n",
        "                      l = loss_fn(test_outputs, test_labels)\n",
        "                      loss += l.item()\n",
        "                      test_loss_his[super_label].append(l.item())\n",
        "                txt = f'iter: {total_iter: 6d}, train loss: {train_loss}, test_loss: {loss}'\n",
        "                print(txt)\n",
        "                print('accuracy: ' + str(evaluate(model,test)*100) + '%')\n",
        "                total_test_loss.append(loss)\n",
        "                loss = 0.0\n",
        "    return train_loss_his,test_loss_his,total_train_loss,total_test_loss"
      ],
      "execution_count": 6,
      "outputs": []
    },
    {
      "cell_type": "code",
      "metadata": {
        "id": "nLWRuHX2H8it"
      },
      "source": [
        "\n",
        "def train_KNN_Net(total_iter, epochs, numbers ):\n",
        "    # [3, 4, 6, 3] basic block size, with up to 128 chanels.\n",
        "    #nets = [ResNet.ResNet(ResNet.BasicBlock, [1, 1, 1, 1],100).to(device) for i in range(numbers)]\n",
        "    nets = [model.resnet34().to(device) for i in range(numbers)]\n",
        "    # Load Whole Dataset\n",
        "    trainDataLoader, testDataLoader =  data.loadData(250)\n",
        "\n",
        "    loss = nn.CrossEntropyLoss()\n",
        "    optimizer = [torch.optim.Adam(nets[i].parameters(), lr=0.0001)  for i in range(numbers)]\n",
        "\n",
        "    \n",
        "\n",
        "    train_loss_his,test_loss_his,total_train_loss,total_test_loss = train_knn(nets,trainDataLoader,testDataLoader,loss,optimizer,total_iter,epochs,numbers)\n",
        "    \n",
        "    return nets, train_loss_his,test_loss_his,total_train_loss,total_test_loss\n",
        "    "
      ],
      "execution_count": 7,
      "outputs": []
    },
    {
      "cell_type": "code",
      "metadata": {
        "id": "9IBBl2kdzR3N",
        "colab": {
          "base_uri": "https://localhost:8080/"
        },
        "outputId": "ded78769-f881-4f5b-b58b-fafcddd48673"
      },
      "source": [
        "nets, train_loss_his, test_loss_his,total_train_loss,total_test_loss = train_KNN_Net(10000,1000,20)\n"
      ],
      "execution_count": 27,
      "outputs": [
        {
          "output_type": "stream",
          "text": [
            "iter: 1000, train loss: 2.0099417344331743, test_loss: 85.5653406381607\n",
            "accuracy: 53.71%\n",
            "iter: 2000, train loss: 2.0073717209100725, test_loss: 66.79577219486237\n",
            "accuracy: 56.58%\n",
            "iter: 3000, train loss: 1.5816031076908112, test_loss: 64.698903799057\n",
            "accuracy: 58.989999999999995%\n",
            "iter: 4000, train loss: 1.2862259700298309, test_loss: 64.73621165752411\n",
            "accuracy: 56.32%\n",
            "iter: 5000, train loss: 1.0585972194075584, test_loss: 62.18414103984833\n",
            "accuracy: 59.00000000000004%\n",
            "iter: 6000, train loss: 0.8850931547284127, test_loss: 63.65067279338837\n",
            "accuracy: 58.91%\n",
            "iter: 7000, train loss: 0.7258984387516976, test_loss: 61.16033983230591\n",
            "accuracy: 60.32%\n",
            "iter: 8000, train loss: 0.6007833771705627, test_loss: 60.88087272644043\n",
            "accuracy: 62.26%\n",
            "iter: 9000, train loss: 0.4886865997612476, test_loss: 58.13920617103577\n",
            "accuracy: 63.57%\n",
            "iter: 10000, train loss: 0.38782855884730816, test_loss: 57.65500807762146\n",
            "accuracy: 65.04%\n"
          ],
          "name": "stdout"
        }
      ]
    },
    {
      "cell_type": "code",
      "metadata": {
        "colab": {
          "base_uri": "https://localhost:8080/",
          "height": 296
        },
        "id": "wkbQmBKPQRVv",
        "outputId": "ea53d0f1-b87d-4f7a-a473-e9788bf76655"
      },
      "source": [
        "plt.plot(range(len(total_train_loss)),total_train_loss,'-',linewidth=3,label='Train loss')\n",
        "plt.plot(range(len(total_test_loss)),total_test_loss,'-',linewidth=3,label='Test loss')\n",
        "plt.xlabel('1000 epoches')\n",
        "plt.ylabel('loss')\n",
        "plt.grid(True)\n",
        "plt.legend()"
      ],
      "execution_count": 21,
      "outputs": [
        {
          "output_type": "execute_result",
          "data": {
            "text/plain": [
              "<matplotlib.legend.Legend at 0x7fcaf05ec350>"
            ]
          },
          "metadata": {
            "tags": []
          },
          "execution_count": 21
        },
        {
          "output_type": "display_data",
          "data": {
            "image/png": "[encoded data removed]",
            "text/plain": [
              "<Figure size 432x288 with 1 Axes>"
            ]
          },
          "metadata": {
            "tags": [],
            "needs_background": "light"
          }
        }
      ]
    }
  ]
}