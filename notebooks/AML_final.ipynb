{
 "cells": [
  {
   "cell_type": "code",
   "execution_count": 1,
   "metadata": {
    "id": "Unc8tw9n595w"
   },
   "outputs": [],
   "source": [
    "import torch\n",
    "import torchvision\n",
    "import numpy as np\n",
    "import matplotlib.pyplot as plt\n",
    "import torch.nn as nn\n",
    "import torch.nn.functional as F\n",
    "from torchvision.datasets import CIFAR100\n",
    "import torchvision.transforms as transforms\n",
    "from torchvision.utils import make_grid\n",
    "from torch.utils.data.dataloader import DataLoader\n",
    "from torch.utils.data import random_split,ConcatDataset\n",
    "\n",
    "import model\n",
    "import data"
   ]
  },
  {
   "cell_type": "code",
   "execution_count": 2,
   "metadata": {
    "id": "ml9YVQ2P5wpq"
   },
   "outputs": [],
   "source": [
    "device = torch.device(\"cuda\" if torch.cuda.is_available() else \"cpu\")"
   ]
  },
  {
   "cell_type": "code",
   "execution_count": 3,
   "metadata": {
    "id": "oRHDK4Lf9Uhk"
   },
   "outputs": [],
   "source": [
    "net = model.resnet34().to(device)\n"
   ]
  },
  {
   "cell_type": "code",
   "execution_count": 4,
   "metadata": {
    "colab": {
     "base_uri": "https://localhost:8080/"
    },
    "id": "AjCcqyf38U7o",
    "outputId": "60a2b196-a852-4f46-ec3a-64d2f14aad57",
    "scrolled": true
   },
   "outputs": [
    {
     "name": "stdout",
     "output_type": "stream",
     "text": [
      "Files already downloaded and verified\n"
     ]
    }
   ],
   "source": [
    "trainDataLoader, testDataLoader =  data.loadData(250)"
   ]
  },
  {
   "cell_type": "code",
   "execution_count": 5,
   "metadata": {
    "id": "qDGxiKmcz49M"
   },
   "outputs": [],
   "source": [
    "loss = nn.CrossEntropyLoss()\n",
    "optimizer = torch.optim.Adam(net.parameters(), lr=0.0001)  "
   ]
  },
  {
   "cell_type": "code",
   "execution_count": 6,
   "metadata": {
    "id": "UpQLdM_8CQSt"
   },
   "outputs": [],
   "source": [
    "def evaluate(model,dataloader):\n",
    "  acc = 0.0\n",
    "  rights = 0\n",
    "  wrongs = 0\n",
    "  for i, test_examples in enumerate(dataloader, 0):\n",
    "    #predicting using the nets\n",
    "    inputs, labels = test_examples\n",
    "    predicted_outputs = model(inputs.float().cuda())\n",
    "    #Selecting the label which has the largest outputs\n",
    "    outputs = torch.argmax(predicted_outputs, 1)\n",
    "\n",
    "    #Counting successfully and unsuccessfully predicted cases\n",
    "    for j, n in enumerate(outputs):\n",
    "      if n == labels[j]:\n",
    "        rights += 1\n",
    "      else:\n",
    "        wrongs += 1\n",
    "  #calculate accuracy with the cases we recorded\n",
    "  acc = rights/(rights+wrongs)\n",
    "  #return the accuracy\n",
    "  return acc\n"
   ]
  },
  {
   "cell_type": "code",
   "execution_count": 7,
   "metadata": {
    "id": "9IBBl2kdzR3N"
   },
   "outputs": [],
   "source": [
    "def train(model,train,test,loss_fn,optimizer,watch_iter):\n",
    "    total_iter = 0\n",
    "    loss = 0.0\n",
    "\n",
    "    while total_iter < 10000:\n",
    "        for batch in train:\n",
    "            total_iter += 1\n",
    "            train_inputs, train_labels = batch\n",
    "            train_inputs, train_labels = train_inputs.to(device), train_labels.to(device)\n",
    "            train_outputs = model(train_inputs)\n",
    "            l = loss_fn(train_outputs, train_labels)\n",
    "            loss += l.item()\n",
    "            optimizer.zero_grad()\n",
    "            l.backward()\n",
    "            optimizer.step()\n",
    "\n",
    "            if total_iter % watch_iter == 0:\n",
    "                train_loss = loss / watch_iter\n",
    "                train_loss_his.append(train_loss)\n",
    "                loss = 0.0\n",
    "                for batch in test:\n",
    "                    test_inputs, test_labels = batch\n",
    "                    test_inputs, test_labels = test_inputs.to(device), test_labels.to(device)\n",
    "                    test_outputs = model(test_inputs)\n",
    "                    l = loss_fn(test_outputs, test_labels)\n",
    "                    loss += l.item()\n",
    "                test_loss_his.append(loss)\n",
    "                txt = f'iter: {total_iter: 6d}, train loss: {train_loss}, test_loss: {loss}'\n",
    "                print(txt)\n",
    "                print('accuracy: ' + str(evaluate(model,test)*100) + '%')\n",
    "                loss = 0.0\n",
    "    return"
   ]
  },
  {
   "cell_type": "code",
   "execution_count": 8,
   "metadata": {
    "colab": {
     "base_uri": "https://localhost:8080/"
    },
    "id": "sIjIFZFK6YA0",
    "outputId": "4d328f54-d360-4929-950e-36982379cc33"
   },
   "outputs": [
    {
     "name": "stdout",
     "output_type": "stream",
     "text": [
      "iter:    100, train loss: 4.024906370639801, test_loss: 147.24758911132812\n",
      "accuracy: 13.48%\n",
      "iter:    200, train loss: 3.5079910254478452, test_loss: 133.46297931671143\n",
      "accuracy: 19.15%\n",
      "iter:    300, train loss: 3.175412175655365, test_loss: 120.45579671859741\n",
      "accuracy: 26.26%\n",
      "iter:    400, train loss: 2.9666999769210816, test_loss: 115.60265684127808\n",
      "accuracy: 27.839999999999996%\n",
      "iter:    500, train loss: 2.733630211353302, test_loss: 106.96102118492126\n",
      "accuracy: 32.5%\n",
      "iter:    600, train loss: 2.5678416967391966, test_loss: 101.10906195640564\n",
      "accuracy: 34.410000000000004%\n",
      "iter:    700, train loss: 2.349814684391022, test_loss: 95.4348771572113\n",
      "accuracy: 37.63%\n",
      "iter:    800, train loss: 2.2757661724090577, test_loss: 90.31295824050903\n",
      "accuracy: 40.58%\n",
      "iter:    900, train loss: 2.093131390810013, test_loss: 87.75786983966827\n",
      "accuracy: 42.52%\n",
      "iter:   1000, train loss: 2.0226086473464964, test_loss: 83.69384062290192\n",
      "accuracy: 43.38%\n",
      "iter:   1100, train loss: 1.8799833965301513, test_loss: 79.19804322719574\n",
      "accuracy: 46.75%\n",
      "iter:   1200, train loss: 1.8263429117202759, test_loss: 76.57946300506592\n",
      "accuracy: 47.94%\n",
      "iter:   1300, train loss: 1.6842893755435944, test_loss: 74.7001291513443\n",
      "accuracy: 49.830000000000005%\n",
      "iter:   1400, train loss: 1.687008823156357, test_loss: 73.14329957962036\n",
      "accuracy: 50.8%\n",
      "iter:   1500, train loss: 1.5399150121212006, test_loss: 71.4420838356018\n",
      "accuracy: 51.239999999999995%\n",
      "iter:   1600, train loss: 1.5656410813331605, test_loss: 70.2825163602829\n",
      "accuracy: 52.290000000000006%\n",
      "iter:   1700, train loss: 1.4218439769744873, test_loss: 69.4449074268341\n",
      "accuracy: 52.72%\n",
      "iter:   1800, train loss: 1.4409341669082643, test_loss: 66.23213982582092\n",
      "accuracy: 54.99000000000001%\n",
      "iter:   1900, train loss: 1.3207526850700377, test_loss: 65.75469648838043\n",
      "accuracy: 54.92%\n",
      "iter:   2000, train loss: 1.3279290342330932, test_loss: 65.83396506309509\n",
      "accuracy: 54.54%\n",
      "iter:   2100, train loss: 1.2058181089162827, test_loss: 63.061524748802185\n",
      "accuracy: 56.89999999999999%\n",
      "iter:   2200, train loss: 1.2363215291500091, test_loss: 62.93902146816254\n",
      "accuracy: 57.04%\n",
      "iter:   2300, train loss: 1.1228331553936004, test_loss: 63.06032729148865\n",
      "accuracy: 57.089999999999996%\n",
      "iter:   2400, train loss: 1.1608581531047821, test_loss: 61.25407087802887\n",
      "accuracy: 57.68%\n",
      "iter:   2500, train loss: 1.034962671995163, test_loss: 62.955403566360474\n",
      "accuracy: 56.95%\n",
      "iter:   2600, train loss: 1.0807666432857514, test_loss: 62.37264609336853\n",
      "accuracy: 57.54%\n",
      "iter:   2700, train loss: 0.9645453882217407, test_loss: 60.11874461174011\n",
      "accuracy: 58.809999999999995%\n",
      "iter:   2800, train loss: 1.0055160957574845, test_loss: 59.462440490722656\n",
      "accuracy: 59.14%\n",
      "iter:   2900, train loss: 0.890141636133194, test_loss: 59.22799217700958\n",
      "accuracy: 59.97%\n",
      "iter:   3000, train loss: 0.9375342756509781, test_loss: 59.359928369522095\n",
      "accuracy: 59.489999999999995%\n",
      "iter:   3100, train loss: 0.8192101627588272, test_loss: 59.0440673828125\n",
      "accuracy: 59.75%\n",
      "iter:   3200, train loss: 0.8609080469608307, test_loss: 58.92434239387512\n",
      "accuracy: 60.34%\n",
      "iter:   3300, train loss: 0.762772381901741, test_loss: 57.76142382621765\n",
      "accuracy: 61.1%\n",
      "iter:   3400, train loss: 0.8196233797073365, test_loss: 60.14807450771332\n",
      "accuracy: 59.98%\n",
      "iter:   3500, train loss: 0.709559742808342, test_loss: 57.756112456321716\n",
      "accuracy: 61.150000000000006%\n",
      "iter:   3600, train loss: 0.7609703266620635, test_loss: 56.998082756996155\n",
      "accuracy: 61.28%\n",
      "iter:   3700, train loss: 0.6518784487247467, test_loss: 57.19835913181305\n",
      "accuracy: 61.63999999999999%\n",
      "iter:   3800, train loss: 0.7055479198694229, test_loss: 57.94878709316254\n",
      "accuracy: 61.18%\n",
      "iter:   3900, train loss: 0.60459666877985, test_loss: 57.58298063278198\n",
      "accuracy: 62.28%\n",
      "iter:   4000, train loss: 0.6437634426355362, test_loss: 57.735482931137085\n",
      "accuracy: 61.99%\n",
      "iter:   4100, train loss: 0.5580968996882438, test_loss: 58.30563187599182\n",
      "accuracy: 61.75000000000001%\n",
      "iter:   4200, train loss: 0.5996719118952751, test_loss: 57.156277894973755\n",
      "accuracy: 62.56%\n",
      "iter:   4300, train loss: 0.518047130703926, test_loss: 57.04919958114624\n",
      "accuracy: 62.64999999999999%\n",
      "iter:   4400, train loss: 0.548522855937481, test_loss: 57.33073854446411\n",
      "accuracy: 62.56%\n",
      "iter:   4500, train loss: 0.4695066991448402, test_loss: 57.38788425922394\n",
      "accuracy: 62.64999999999999%\n",
      "iter:   4600, train loss: 0.5114386633038521, test_loss: 58.11634945869446\n",
      "accuracy: 62.44%\n",
      "iter:   4700, train loss: 0.4287231248617172, test_loss: 59.53158748149872\n",
      "accuracy: 62.050000000000004%\n",
      "iter:   4800, train loss: 0.48393256902694703, test_loss: 57.95026230812073\n",
      "accuracy: 62.96000000000001%\n",
      "iter:   4900, train loss: 0.4014679515361786, test_loss: 58.16990411281586\n",
      "accuracy: 62.86000000000001%\n",
      "iter:   5000, train loss: 0.4448962053656578, test_loss: 57.1872581243515\n",
      "accuracy: 63.36000000000001%\n",
      "iter:   5100, train loss: 0.3718532872200012, test_loss: 59.96992588043213\n",
      "accuracy: 62.69%\n",
      "iter:   5200, train loss: 0.4065892821550369, test_loss: 58.491350293159485\n",
      "accuracy: 63.849999999999994%\n",
      "iter:   5300, train loss: 0.3340849670767784, test_loss: 59.5131995677948\n",
      "accuracy: 63.24999999999999%\n",
      "iter:   5400, train loss: 0.3783061960339546, test_loss: 59.5409471988678\n",
      "accuracy: 63.55%\n",
      "iter:   5500, train loss: 0.3124420160055161, test_loss: 58.798670530319214\n",
      "accuracy: 63.83%\n",
      "iter:   5600, train loss: 0.35119822472333906, test_loss: 58.649481654167175\n",
      "accuracy: 63.959999999999994%\n",
      "iter:   5700, train loss: 0.28850904762744906, test_loss: 59.67970657348633\n",
      "accuracy: 63.81%\n",
      "iter:   5800, train loss: 0.335436322838068, test_loss: 60.23436117172241\n",
      "accuracy: 63.2%\n",
      "iter:   5900, train loss: 0.2587211388349533, test_loss: 58.41147470474243\n",
      "accuracy: 64.29%\n",
      "iter:   6000, train loss: 0.3095052482187748, test_loss: 60.83417475223541\n",
      "accuracy: 63.04%\n",
      "iter:   6100, train loss: 0.25386717572808265, test_loss: 61.605520606040955\n",
      "accuracy: 63.739999999999995%\n",
      "iter:   6200, train loss: 0.27093087777495384, test_loss: 62.115352749824524\n",
      "accuracy: 63.24999999999999%\n",
      "iter:   6300, train loss: 0.23024898752570153, test_loss: 60.84813833236694\n",
      "accuracy: 64.24%\n",
      "iter:   6400, train loss: 0.27051698610186575, test_loss: 61.50290262699127\n",
      "accuracy: 63.92%\n",
      "iter:   6500, train loss: 0.21670550309121608, test_loss: 61.32792890071869\n",
      "accuracy: 63.739999999999995%\n",
      "iter:   6600, train loss: 0.23861306115984918, test_loss: 61.06890952587128\n",
      "accuracy: 64.25%\n",
      "iter:   6700, train loss: 0.20906426437199116, test_loss: 62.99718225002289\n",
      "accuracy: 63.93%\n",
      "iter:   6800, train loss: 0.2352594715356827, test_loss: 62.74605369567871\n",
      "accuracy: 63.77%\n",
      "iter:   6900, train loss: 0.18822875328361988, test_loss: 62.622225880622864\n",
      "accuracy: 64.44%\n",
      "iter:   7000, train loss: 0.2113390089571476, test_loss: 64.08211755752563\n",
      "accuracy: 63.43%\n",
      "iter:   7100, train loss: 0.17679747141897678, test_loss: 62.489580154418945\n",
      "accuracy: 64.74%\n",
      "iter:   7200, train loss: 0.20617523424327375, test_loss: 64.73842680454254\n",
      "accuracy: 63.55%\n",
      "iter:   7300, train loss: 0.16958268463611603, test_loss: 64.15803277492523\n",
      "accuracy: 63.519999999999996%\n",
      "iter:   7400, train loss: 0.2022206000983715, test_loss: 64.39790773391724\n",
      "accuracy: 63.63999999999999%\n",
      "iter:   7500, train loss: 0.16531826853752135, test_loss: 64.24014556407928\n",
      "accuracy: 64.69%\n",
      "iter:   7600, train loss: 0.18443458691239356, test_loss: 63.658273816108704\n",
      "accuracy: 64.09%\n",
      "iter:   7700, train loss: 0.14994367882609366, test_loss: 64.4768979549408\n",
      "accuracy: 64.2%\n",
      "iter:   7800, train loss: 0.16965111784636974, test_loss: 63.93740403652191\n",
      "accuracy: 64.32%\n",
      "iter:   7900, train loss: 0.15518925733864308, test_loss: 65.11812829971313\n",
      "accuracy: 63.81%\n",
      "iter:   8000, train loss: 0.1640006621927023, test_loss: 66.01484298706055\n",
      "accuracy: 64.02%\n",
      "iter:   8100, train loss: 0.14568025812506677, test_loss: 64.81221663951874\n",
      "accuracy: 64.73%\n",
      "iter:   8200, train loss: 0.16540457785129548, test_loss: 65.98684179782867\n",
      "accuracy: 64.1%\n",
      "iter:   8300, train loss: 0.1438988158851862, test_loss: 66.15814983844757\n",
      "accuracy: 64.42999999999999%\n",
      "iter:   8400, train loss: 0.17356188997626304, test_loss: 66.6974526643753\n",
      "accuracy: 64.33%\n",
      "iter:   8500, train loss: 0.13970071367919445, test_loss: 67.06410276889801\n",
      "accuracy: 64.29%\n",
      "iter:   8600, train loss: 0.13995911806821823, test_loss: 67.5802047252655\n"
     ]
    },
    {
     "name": "stdout",
     "output_type": "stream",
     "text": [
      "accuracy: 63.75999999999999%\n",
      "iter:   8700, train loss: 0.11408874921500683, test_loss: 66.69949781894684\n",
      "accuracy: 64.91%\n",
      "iter:   8800, train loss: 0.13797770373523235, test_loss: 68.37976408004761\n",
      "accuracy: 63.67%\n",
      "iter:   8900, train loss: 0.12315288439393043, test_loss: 65.80476927757263\n",
      "accuracy: 64.7%\n",
      "iter:   9000, train loss: 0.15021535955369472, test_loss: 68.73481154441833\n",
      "accuracy: 63.839999999999996%\n",
      "iter:   9100, train loss: 0.12576601654291153, test_loss: 67.08365738391876\n",
      "accuracy: 64.99000000000001%\n",
      "iter:   9200, train loss: 0.1282997052371502, test_loss: 67.96765995025635\n",
      "accuracy: 64.5%\n",
      "iter:   9300, train loss: 0.11717251647263766, test_loss: 69.43722140789032\n",
      "accuracy: 63.61%\n",
      "iter:   9400, train loss: 0.13486560493707656, test_loss: 67.4457619190216\n",
      "accuracy: 64.37%\n",
      "iter:   9500, train loss: 0.1134812767803669, test_loss: 67.60335505008698\n",
      "accuracy: 64.48%\n",
      "iter:   9600, train loss: 0.13506418585777283, test_loss: 68.64422035217285\n",
      "accuracy: 64.36%\n",
      "iter:   9700, train loss: 0.10465744726359844, test_loss: 67.93462371826172\n",
      "accuracy: 65.03999999999999%\n",
      "iter:   9800, train loss: 0.13748703561723233, test_loss: 68.97268617153168\n",
      "accuracy: 64.62%\n",
      "iter:   9900, train loss: 0.11382203981280327, test_loss: 68.40832006931305\n",
      "accuracy: 64.74%\n",
      "iter:  10000, train loss: 0.12435924790799618, test_loss: 71.06939160823822\n",
      "accuracy: 63.56%\n",
      "CPU times: user 32min 5s, sys: 10min 47s, total: 42min 53s\n",
      "Wall time: 43min 53s\n"
     ]
    }
   ],
   "source": [
    "%%time\n",
    "train_loss_his = []\n",
    "test_loss_his = []\n",
    "train(net,trainDataLoader,testDataLoader,loss,optimizer,100)\n"
   ]
  },
  {
   "cell_type": "code",
   "execution_count": 9,
   "metadata": {},
   "outputs": [
    {
     "data": {
      "text/plain": [
       "<matplotlib.legend.Legend at 0x14c1b0487520>"
      ]
     },
     "execution_count": 9,
     "metadata": {},
     "output_type": "execute_result"
    },
    {
     "data": {
      "image/png": "[encoded data removed]",
      "text/plain": [
       "<Figure size 432x288 with 1 Axes>"
      ]
     },
     "metadata": {
      "needs_background": "light"
     },
     "output_type": "display_data"
    }
   ],
   "source": [
    "plt.plot(range(len(train_loss_his)),train_loss_his,'-',linewidth=3,label='Train loss')\n",
    "plt.plot(range(len(train_loss_his)),test_loss_his,'-',linewidth=3,label='Test loss')\n",
    "plt.xlabel('epoches')\n",
    "plt.ylabel('loss')\n",
    "plt.grid(True)\n",
    "plt.legend()"
   ]
  },
  {
   "cell_type": "code",
   "execution_count": 10,
   "metadata": {},
   "outputs": [
    {
     "name": "stdout",
     "output_type": "stream",
     "text": [
      "accuracy: 63.56%\n"
     ]
    }
   ],
   "source": [
    "print('accuracy: ' + str(evaluate(net,testDataLoader)*100) + '%')\\\\"
   ]
  }
 ],
 "metadata": {
  "accelerator": "GPU",
  "colab": {
   "machine_shape": "hm",
   "name": "AML_final.ipynb",
   "provenance": []
  },
  "kernelspec": {
   "display_name": "Python 3",
   "language": "python",
   "name": "python3"
  },
  "language_info": {
   "codemirror_mode": {
    "name": "ipython",
    "version": 3
   },
   "file_extension": ".py",
   "mimetype": "text/x-python",
   "name": "python",
   "nbconvert_exporter": "python",
   "pygments_lexer": "ipython3",
   "version": "3.8.6"
  }
 },
 "nbformat": 4,
 "nbformat_minor": 1
}
