{
 "cells": [
  {
   "cell_type": "code",
   "execution_count": 1,
   "metadata": {
    "colab": {
     "base_uri": "https://localhost:8080/"
    },
    "id": "Unc8tw9n595w",
    "outputId": "8db74dd6-3d5b-414e-c9a5-dca8503d04b3"
   },
   "outputs": [
    {
     "name": "stdout",
     "output_type": "stream",
     "text": [
      "Files already downloaded and verified\n"
     ]
    }
   ],
   "source": [
    "import torch\n",
    "import torchvision\n",
    "import numpy as np\n",
    "import matplotlib.pyplot as plt\n",
    "import torch.nn as nn\n",
    "import torch.nn.functional as F\n",
    "from torchvision.datasets import CIFAR100\n",
    "import torchvision.transforms as transforms\n",
    "from torchvision.utils import make_grid\n",
    "from torch.utils.data.dataloader import DataLoader\n",
    "from torch.utils.data import random_split,ConcatDataset\n",
    "\n",
    "import ResNet\n",
    "import data\n",
    "import CNN"
   ]
  },
  {
   "cell_type": "code",
   "execution_count": 2,
   "metadata": {
    "id": "ml9YVQ2P5wpq"
   },
   "outputs": [],
   "source": [
    "device = torch.device(\"cuda\" if torch.cuda.is_available() else \"cpu\")"
   ]
  },
  {
   "cell_type": "code",
   "execution_count": 3,
   "metadata": {
    "id": "oRHDK4Lf9Uhk"
   },
   "outputs": [],
   "source": [
    "net = ResNet.resnet18(num_classes=20).to(device)\n"
   ]
  },
  {
   "cell_type": "code",
   "execution_count": 4,
   "metadata": {
    "id": "AjCcqyf38U7o"
   },
   "outputs": [],
   "source": [
    "trainDataLoader, testDataLoader =  data.loadData_byBigClass(250)"
   ]
  },
  {
   "cell_type": "code",
   "execution_count": 5,
   "metadata": {
    "id": "qDGxiKmcz49M"
   },
   "outputs": [],
   "source": [
    "loss = nn.CrossEntropyLoss()\n",
    "optimizer = torch.optim.Adam(net.parameters(), lr=0.00005)  "
   ]
  },
  {
   "cell_type": "code",
   "execution_count": 6,
   "metadata": {
    "id": "UpQLdM_8CQSt"
   },
   "outputs": [],
   "source": [
    "def evaluate(model,dataloader):\n",
    "  acc = 0.0\n",
    "  rights = 0\n",
    "  wrongs = 0\n",
    "  for i, test_examples in enumerate(dataloader, 0):\n",
    "    #predicting using the nets\n",
    "    inputs, labels = test_examples\n",
    "    predicted_outputs = model(inputs.to(device))\n",
    "    #Selecting the label which has the largest outputs\n",
    "    outputs = torch.argmax(predicted_outputs, 1)\n",
    "\n",
    "    #Counting successfully and unsuccessfully predicted cases\n",
    "    for j, n in enumerate(outputs):\n",
    "      if n == labels[j]:\n",
    "        rights += 1\n",
    "      else:\n",
    "        wrongs += 1\n",
    "  #calculate accuracy with the cases we recorded\n",
    "  acc = rights/(rights+wrongs)\n",
    "  #return the accuracy\n",
    "  return acc\n"
   ]
  },
  {
   "cell_type": "code",
   "execution_count": 7,
   "metadata": {
    "id": "9IBBl2kdzR3N"
   },
   "outputs": [],
   "source": [
    "def train(model,train,test,loss_fn,optimizer,watch_iter):\n",
    "    total_iter = 0\n",
    "    loss = 0.0\n",
    "\n",
    "    while total_iter < 10000:\n",
    "        for batch in train:\n",
    "            total_iter += 1\n",
    "            train_inputs, train_labels = batch\n",
    "            train_outputs = model(train_inputs.to(device))\n",
    "            l = loss_fn(train_outputs, train_labels.to(device))\n",
    "            loss += l.item()\n",
    "            optimizer.zero_grad()\n",
    "            l.backward()\n",
    "            optimizer.step()\n",
    "\n",
    "            if total_iter % watch_iter == 0:\n",
    "                train_loss = loss / watch_iter\n",
    "                train_loss_his.append(train_loss)\n",
    "                loss = 0.0\n",
    "                for batch in test:\n",
    "                    test_inputs, test_labels = batch\n",
    "                    test_outputs = model(test_inputs.to(device))\n",
    "                    l = loss_fn(test_outputs, test_labels.to(device))\n",
    "                    loss += l.item()\n",
    "                test_loss_his.append(loss)\n",
    "                txt = f'iter: {total_iter: 6d}, train loss: {train_loss}, test_loss: {loss}'\n",
    "                print(txt)\n",
    "                print('accuracy: ' + str(evaluate(model,test)*100) + '%')\n",
    "                loss = 0.0\n",
    "    return"
   ]
  },
  {
   "cell_type": "code",
   "execution_count": 8,
   "metadata": {
    "colab": {
     "base_uri": "https://localhost:8080/",
     "height": 934
    },
    "id": "sIjIFZFK6YA0",
    "outputId": "7636a880-7d03-494a-dfb5-38f7067a7925"
   },
   "outputs": [
    {
     "name": "stdout",
     "output_type": "stream",
     "text": [
      "iter:    100, train loss: 2.621851532459259, test_loss: 95.14311790466309\n",
      "accuracy: 26.39%\n",
      "iter:    200, train loss: 2.3073856449127197, test_loss: 87.75987243652344\n",
      "accuracy: 32.42%\n",
      "iter:    300, train loss: 2.0578551900386812, test_loss: 83.41309905052185\n",
      "accuracy: 35.77%\n",
      "iter:    400, train loss: 2.0129746901988983, test_loss: 79.87465155124664\n",
      "accuracy: 38.37%\n",
      "iter:    500, train loss: 1.715674819946289, test_loss: 79.62790775299072\n",
      "accuracy: 38.58%\n",
      "iter:    600, train loss: 1.7512425768375397, test_loss: 75.36860775947571\n",
      "accuracy: 41.53%\n",
      "iter:    700, train loss: 1.3629087674617768, test_loss: 79.93123650550842\n",
      "accuracy: 40.339999999999996%\n",
      "iter:    800, train loss: 1.4583944582939148, test_loss: 76.67298865318298\n",
      "accuracy: 42.18%\n",
      "iter:    900, train loss: 0.9334121507406234, test_loss: 86.98202252388\n",
      "accuracy: 40.0%\n",
      "iter:   1000, train loss: 1.105704442858696, test_loss: 85.23181772232056\n",
      "accuracy: 41.05%\n",
      "iter:   1100, train loss: 0.5292895424365998, test_loss: 97.38959789276123\n",
      "accuracy: 40.14%\n",
      "iter:   1200, train loss: 0.6836769530177116, test_loss: 95.45792984962463\n",
      "accuracy: 39.989999999999995%\n",
      "iter:   1300, train loss: 0.2766770549118519, test_loss: 106.54641556739807\n",
      "accuracy: 39.67%\n",
      "iter:   1400, train loss: 0.35115842014551163, test_loss: 111.4594030380249\n",
      "accuracy: 37.97%\n",
      "iter:   1500, train loss: 0.15789471320807935, test_loss: 115.23251128196716\n",
      "accuracy: 39.019999999999996%\n",
      "iter:   1600, train loss: 0.19647187918424605, test_loss: 118.34049606323242\n",
      "accuracy: 39.51%\n",
      "iter:   1700, train loss: 0.11163937352597714, test_loss: 123.04147982597351\n",
      "accuracy: 39.43%\n",
      "iter:   1800, train loss: 0.11795836471021176, test_loss: 123.42694163322449\n",
      "accuracy: 40.06%\n",
      "iter:   1900, train loss: 0.07412214532494545, test_loss: 125.61849737167358\n",
      "accuracy: 40.1%\n",
      "iter:   2000, train loss: 0.11192537523806095, test_loss: 128.62770867347717\n",
      "accuracy: 39.61%\n",
      "iter:   2100, train loss: 0.08821112256497145, test_loss: 129.48956632614136\n",
      "accuracy: 40.02%\n",
      "iter:   2200, train loss: 0.13577492505311967, test_loss: 132.8450367450714\n",
      "accuracy: 39.24%\n",
      "iter:   2300, train loss: 0.1256114523857832, test_loss: 132.86571431159973\n",
      "accuracy: 39.739999999999995%\n",
      "iter:   2400, train loss: 0.18691597670316695, test_loss: 131.5752592086792\n",
      "accuracy: 39.53%\n",
      "iter:   2500, train loss: 0.15044719137251378, test_loss: 135.87115669250488\n",
      "accuracy: 38.57%\n",
      "iter:   2600, train loss: 0.17520794332027434, test_loss: 134.36737155914307\n",
      "accuracy: 39.57%\n",
      "iter:   2700, train loss: 0.10317948333919048, test_loss: 136.00547432899475\n",
      "accuracy: 39.45%\n",
      "iter:   2800, train loss: 0.1124429827183485, test_loss: 136.53466129302979\n",
      "accuracy: 39.989999999999995%\n",
      "iter:   2900, train loss: 0.05920144379138947, test_loss: 137.33011555671692\n",
      "accuracy: 40.5%\n",
      "iter:   3000, train loss: 0.06730433012358844, test_loss: 139.50082063674927\n",
      "accuracy: 39.839999999999996%\n",
      "iter:   3100, train loss: 0.041649109181016684, test_loss: 139.53864693641663\n",
      "accuracy: 40.38%\n",
      "iter:   3200, train loss: 0.04634792849421501, test_loss: 140.7690451145172\n",
      "accuracy: 40.78%\n",
      "iter:   3300, train loss: 0.032477003931999204, test_loss: 141.02746081352234\n",
      "accuracy: 41.04%\n",
      "iter:   3400, train loss: 0.0422965844348073, test_loss: 144.1511960029602\n",
      "accuracy: 40.18%\n",
      "iter:   3500, train loss: 0.03205218703020364, test_loss: 145.44534826278687\n",
      "accuracy: 40.300000000000004%\n",
      "iter:   3600, train loss: 0.05352024896070361, test_loss: 148.63129496574402\n",
      "accuracy: 39.85%\n",
      "iter:   3700, train loss: 0.07048041839152575, test_loss: 148.93026280403137\n",
      "accuracy: 39.839999999999996%\n",
      "iter:   3800, train loss: 0.1837102734670043, test_loss: 147.3509862422943\n",
      "accuracy: 38.5%\n",
      "iter:   3900, train loss: 0.20944317534565926, test_loss: 142.54845213890076\n",
      "accuracy: 38.41%\n",
      "iter:   4000, train loss: 0.21181368991732596, test_loss: 138.34949231147766\n",
      "accuracy: 39.910000000000004%\n",
      "iter:   4100, train loss: 0.1074633764848113, test_loss: 138.70380520820618\n",
      "accuracy: 40.25%\n",
      "iter:   4200, train loss: 0.1003905863687396, test_loss: 141.82422637939453\n",
      "accuracy: 40.489999999999995%\n",
      "iter:   4300, train loss: 0.048034279122948643, test_loss: 141.74184894561768\n",
      "accuracy: 41.4%\n",
      "iter:   4400, train loss: 0.04503454282879829, test_loss: 145.07742881774902\n",
      "accuracy: 40.5%\n",
      "iter:   4500, train loss: 0.020813431115821002, test_loss: 144.9833471775055\n",
      "accuracy: 41.839999999999996%\n",
      "iter:   4600, train loss: 0.01851720724720508, test_loss: 147.34090662002563\n",
      "accuracy: 41.78%\n",
      "iter:   4700, train loss: 0.01055039073806256, test_loss: 145.61463451385498\n",
      "accuracy: 42.41%\n",
      "iter:   4800, train loss: 0.009995234224479645, test_loss: 147.95092344284058\n",
      "accuracy: 42.18%\n",
      "iter:   4900, train loss: 0.008442577749956399, test_loss: 148.78873896598816\n",
      "accuracy: 41.83%\n",
      "iter:   5000, train loss: 0.006847483314340934, test_loss: 150.77710723876953\n",
      "accuracy: 41.79%\n",
      "iter:   5100, train loss: 0.0039036388078238816, test_loss: 150.1255042552948\n",
      "accuracy: 41.870000000000005%\n",
      "iter:   5200, train loss: 0.0040784634527517485, test_loss: 151.74004340171814\n",
      "accuracy: 42.309999999999995%\n",
      "iter:   5300, train loss: 0.0020285456418059765, test_loss: 150.84320497512817\n",
      "accuracy: 42.55%\n",
      "iter:   5400, train loss: 0.0015827846195315943, test_loss: 151.65595650672913\n",
      "accuracy: 42.199999999999996%\n",
      "iter:   5500, train loss: 0.0020264842436881736, test_loss: 152.19461584091187\n",
      "accuracy: 42.39%\n",
      "iter:   5600, train loss: 0.006823642508243211, test_loss: 155.77774214744568\n",
      "accuracy: 41.4%\n",
      "iter:   5700, train loss: 0.021570834517478942, test_loss: 161.25566911697388\n",
      "accuracy: 39.879999999999995%\n",
      "iter:   5800, train loss: 0.41942664530128243, test_loss: 114.65100741386414\n",
      "accuracy: 37.55%\n",
      "iter:   5900, train loss: 0.28675086751580237, test_loss: 129.57097148895264\n",
      "accuracy: 39.72%\n",
      "iter:   6000, train loss: 0.24929329082369805, test_loss: 129.60416865348816\n",
      "accuracy: 41.199999999999996%\n",
      "iter:   6100, train loss: 0.09637029059231281, test_loss: 135.1721544265747\n",
      "accuracy: 41.52%\n",
      "iter:   6200, train loss: 0.08430615343153476, test_loss: 141.99764490127563\n",
      "accuracy: 40.339999999999996%\n",
      "iter:   6300, train loss: 0.04132111249491573, test_loss: 144.12336444854736\n",
      "accuracy: 41.36%\n",
      "iter:   6400, train loss: 0.04054321557283402, test_loss: 144.44164299964905\n",
      "accuracy: 41.39%\n",
      "iter:   6500, train loss: 0.022636056495830417, test_loss: 146.6563196182251\n",
      "accuracy: 41.82%\n",
      "iter:   6600, train loss: 0.02345250652637333, test_loss: 149.3714702129364\n",
      "accuracy: 41.42%\n",
      "iter:   6700, train loss: 0.01639993945136666, test_loss: 150.76953101158142\n",
      "accuracy: 41.23%\n",
      "iter:   6800, train loss: 0.020265429229475558, test_loss: 152.26013588905334\n",
      "accuracy: 41.38%\n",
      "iter:   6900, train loss: 0.020353982350789012, test_loss: 155.4270715713501\n",
      "accuracy: 41.510000000000005%\n",
      "iter:   7000, train loss: 0.029302829508669675, test_loss: 155.95807361602783\n",
      "accuracy: 40.94%\n",
      "iter:   7100, train loss: 0.03767337413039058, test_loss: 160.87336206436157\n",
      "accuracy: 40.87%\n",
      "iter:   7200, train loss: 0.10470953164622188, test_loss: 159.41117095947266\n",
      "accuracy: 39.7%\n",
      "iter:   7300, train loss: 0.17003333352506161, test_loss: 151.75178623199463\n",
      "accuracy: 39.410000000000004%\n",
      "iter:   7400, train loss: 0.20135585948824883, test_loss: 143.80432415008545\n",
      "accuracy: 39.839999999999996%\n",
      "iter:   7500, train loss: 0.0862542231567204, test_loss: 145.49133563041687\n",
      "accuracy: 41.13%\n",
      "iter:   7600, train loss: 0.0715238381549716, test_loss: 146.35754203796387\n",
      "accuracy: 41.47%\n",
      "iter:   7700, train loss: 0.03066670742817223, test_loss: 147.58591675758362\n",
      "accuracy: 41.85%\n",
      "iter:   7800, train loss: 0.027212288659065963, test_loss: 151.69386625289917\n",
      "accuracy: 41.48%\n",
      "iter:   7900, train loss: 0.013847424725536257, test_loss: 151.21571707725525\n",
      "accuracy: 42.21%\n",
      "iter:   8000, train loss: 0.01105227363295853, test_loss: 151.69200944900513\n",
      "accuracy: 42.19%\n",
      "iter:   8100, train loss: 0.0046562708355486395, test_loss: 151.68278646469116\n",
      "accuracy: 42.74%\n",
      "iter:   8200, train loss: 0.005543392157414928, test_loss: 155.0292456150055\n",
      "accuracy: 42.34%\n",
      "iter:   8300, train loss: 0.0035282959742471576, test_loss: 156.07804918289185\n",
      "accuracy: 42.3%\n",
      "iter:   8400, train loss: 0.004082475216710009, test_loss: 155.89623308181763\n",
      "accuracy: 42.76%\n",
      "iter:   8500, train loss: 0.003197665670304559, test_loss: 155.71755957603455\n"
     ]
    },
    {
     "name": "stdout",
     "output_type": "stream",
     "text": [
      "accuracy: 42.59%\n",
      "iter:   8600, train loss: 0.002441620062745642, test_loss: 157.26413345336914\n",
      "accuracy: 42.83%\n",
      "iter:   8700, train loss: 0.004808437628089451, test_loss: 158.05755162239075\n",
      "accuracy: 42.449999999999996%\n",
      "iter:   8800, train loss: 0.0054579408938298, test_loss: 161.46186017990112\n",
      "accuracy: 41.589999999999996%\n",
      "iter:   8900, train loss: 0.005320369535475038, test_loss: 164.04929161071777\n",
      "accuracy: 41.03%\n",
      "iter:   9000, train loss: 0.019608132508583367, test_loss: 168.1377556324005\n",
      "accuracy: 40.56%\n",
      "iter:   9100, train loss: 0.2400561016984284, test_loss: 147.2476761341095\n",
      "accuracy: 37.31%\n",
      "iter:   9200, train loss: 0.33554224655032155, test_loss: 132.37785363197327\n",
      "accuracy: 40.36%\n",
      "iter:   9300, train loss: 0.11574291542172432, test_loss: 141.28355979919434\n",
      "accuracy: 41.15%\n",
      "iter:   9400, train loss: 0.0955114545300603, test_loss: 144.14436221122742\n",
      "accuracy: 41.099999999999994%\n",
      "iter:   9500, train loss: 0.04271406695246696, test_loss: 144.1965959072113\n",
      "accuracy: 41.980000000000004%\n",
      "iter:   9600, train loss: 0.0367494291998446, test_loss: 146.26497340202332\n",
      "accuracy: 41.760000000000005%\n",
      "iter:   9700, train loss: 0.01469631410902366, test_loss: 150.2711842060089\n",
      "accuracy: 42.370000000000005%\n",
      "iter:   9800, train loss: 0.014817118737846613, test_loss: 151.8394091129303\n",
      "accuracy: 42.07%\n",
      "iter:   9900, train loss: 0.007075334732653573, test_loss: 152.3930106163025\n",
      "accuracy: 41.99%\n",
      "iter:  10000, train loss: 0.0075237785198260096, test_loss: 152.39922952651978\n",
      "accuracy: 42.559999999999995%\n"
     ]
    }
   ],
   "source": [
    "train_loss_his = []\n",
    "test_loss_his = []\n",
    "train(net,trainDataLoader,testDataLoader,loss,optimizer,100)\n"
   ]
  },
  {
   "cell_type": "code",
   "execution_count": 9,
   "metadata": {
    "id": "KZXp-LeJJuBQ"
   },
   "outputs": [],
   "source": [
    "class_2 = \t[['beaver', 'dolphin', 'otter', 'seal', 'whale'],\n",
    "\t['aquarium_fish', 'flatfish', 'ray', 'shark', 'trout'],\n",
    "\t['orchid', 'poppy', 'rose', 'sunflower', 'tulip'],\n",
    "    ['bottle', 'bowl', 'can', 'cup', 'plate'],\n",
    "\t['apple', 'mushroom', 'orange', 'pear', 'sweet_pepper'],\n",
    "\t['clock', 'keyboard', 'lamp', 'telephone', 'television'],\n",
    "    ['bed', 'chair', 'couch', 'table', 'wardrobe'],\n",
    "\t['bee', 'beetle', 'butterfly', 'caterpillar', 'cockroach'],\n",
    "\t['bear', 'leopard', 'lion', 'tiger', 'wolf'],\n",
    "    ['bridge', 'castle', 'house', 'road', 'skyscraper'],\n",
    "\t['cloud', 'forest', 'mountain', 'plain', 'sea'],\n",
    "\t['camel', 'cattle', 'chimpanzee', 'elephant', 'kangaroo'],\n",
    "\t['fox', 'porcupine', 'possum', 'raccoon', 'skunk'],\n",
    "\t['crab', 'lobster', 'snail', 'spider', 'worm'],\n",
    "\t['baby', 'boy', 'girl', 'man', 'woman'],\n",
    "\t['crocodile', 'dinosaur', 'lizard', 'snake', 'turtle'],\n",
    "\t['hamster', 'mouse', 'rabbit', 'shrew', 'squirrel'],\n",
    "\t['maple_tree', 'oak_tree', 'palm_tree', 'pine_tree', 'willow_tree'],\n",
    "\t['bicycle', 'bus', 'motorcycle', 'pickup_truck', 'train'],\n",
    "\t['lawn_mower', 'rocket', 'streetcar', 'tank', 'tractor']]"
   ]
  },
  {
   "cell_type": "code",
   "execution_count": 10,
   "metadata": {},
   "outputs": [
    {
     "data": {
      "text/plain": [
       "<matplotlib.legend.Legend at 0x14c14e92e2b0>"
      ]
     },
     "execution_count": 10,
     "metadata": {},
     "output_type": "execute_result"
    },
    {
     "data": {
      "image/png": "[encoded data removed]",
      "text/plain": [
       "<Figure size 432x288 with 1 Axes>"
      ]
     },
     "metadata": {
      "needs_background": "light"
     },
     "output_type": "display_data"
    }
   ],
   "source": [
    "plt.plot(range(len(train_loss_his)),train_loss_his,'-',linewidth=3,label='Train loss')\n",
    "plt.plot(range(len(train_loss_his)),test_loss_his,'-',linewidth=3,label='Test loss')\n",
    "plt.xlabel('epoches')\n",
    "plt.ylabel('loss')\n",
    "plt.grid(True)\n",
    "plt.legend()"
   ]
  },
  {
   "cell_type": "code",
   "execution_count": null,
   "metadata": {},
   "outputs": [],
   "source": []
  }
 ],
 "metadata": {
  "accelerator": "GPU",
  "colab": {
   "machine_shape": "hm",
   "name": "AML_final.ipynb",
   "provenance": []
  },
  "kernelspec": {
   "display_name": "Python 3",
   "language": "python",
   "name": "python3"
  },
  "language_info": {
   "codemirror_mode": {
    "name": "ipython",
    "version": 3
   },
   "file_extension": ".py",
   "mimetype": "text/x-python",
   "name": "python",
   "nbconvert_exporter": "python",
   "pygments_lexer": "ipython3",
   "version": "3.8.6"
  }
 },
 "nbformat": 4,
 "nbformat_minor": 1
}
