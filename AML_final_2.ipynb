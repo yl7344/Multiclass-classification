{
 "cells": [
  {
   "cell_type": "code",
   "execution_count": 1,
   "metadata": {
    "colab": {
     "base_uri": "https://localhost:8080/"
    },
    "id": "Unc8tw9n595w",
    "outputId": "8db74dd6-3d5b-414e-c9a5-dca8503d04b3"
   },
   "outputs": [
    {
     "name": "stdout",
     "output_type": "stream",
     "text": [
      "Files already downloaded and verified\n"
     ]
    }
   ],
   "source": [
    "import torch\n",
    "import torchvision\n",
    "import numpy as np\n",
    "import matplotlib.pyplot as plt\n",
    "import torch.nn as nn\n",
    "import torch.nn.functional as F\n",
    "from torchvision.datasets import CIFAR100\n",
    "import torchvision.transforms as transforms\n",
    "from torchvision.utils import make_grid\n",
    "from torch.utils.data.dataloader import DataLoader\n",
    "from torch.utils.data import random_split,ConcatDataset\n",
    "\n",
    "import ResNet\n",
    "import data\n",
    "import CNN"
   ]
  },
  {
   "cell_type": "code",
   "execution_count": 2,
   "metadata": {
    "id": "ml9YVQ2P5wpq"
   },
   "outputs": [],
   "source": [
    "device = torch.device(\"cuda\" if torch.cuda.is_available() else \"cpu\")"
   ]
  },
  {
   "cell_type": "code",
   "execution_count": 3,
   "metadata": {
    "id": "oRHDK4Lf9Uhk"
   },
   "outputs": [],
   "source": [
    "net = ResNet.resnet34(num_classes=20).to(device)\n"
   ]
  },
  {
   "cell_type": "code",
   "execution_count": 4,
   "metadata": {
    "id": "AjCcqyf38U7o"
   },
   "outputs": [],
   "source": [
    "trainDataLoader, testDataLoader =  data.loadData_byBigClass(250)"
   ]
  },
  {
   "cell_type": "code",
   "execution_count": 5,
   "metadata": {
    "id": "qDGxiKmcz49M"
   },
   "outputs": [],
   "source": [
    "loss = nn.CrossEntropyLoss()\n",
    "optimizer = torch.optim.Adam(net.parameters(), lr=0.00005)  "
   ]
  },
  {
   "cell_type": "code",
   "execution_count": 6,
   "metadata": {
    "id": "UpQLdM_8CQSt"
   },
   "outputs": [],
   "source": [
    "def evaluate(model,dataloader):\n",
    "  acc = 0.0\n",
    "  rights = 0\n",
    "  wrongs = 0\n",
    "  for i, test_examples in enumerate(dataloader, 0):\n",
    "    #predicting using the nets\n",
    "    inputs, labels = test_examples\n",
    "    predicted_outputs = model(inputs.to(device))\n",
    "    #Selecting the label which has the largest outputs\n",
    "    outputs = torch.argmax(predicted_outputs, 1)\n",
    "\n",
    "    #Counting successfully and unsuccessfully predicted cases\n",
    "    for j, n in enumerate(outputs):\n",
    "      if n == labels[j]:\n",
    "        rights += 1\n",
    "      else:\n",
    "        wrongs += 1\n",
    "  #calculate accuracy with the cases we recorded\n",
    "  acc = rights/(rights+wrongs)\n",
    "  #return the accuracy\n",
    "  return acc\n"
   ]
  },
  {
   "cell_type": "code",
   "execution_count": 7,
   "metadata": {
    "id": "9IBBl2kdzR3N"
   },
   "outputs": [],
   "source": [
    "def train(model,train,test,loss_fn,optimizer,watch_iter):\n",
    "    total_iter = 0\n",
    "    loss = 0.0\n",
    "\n",
    "    while total_iter < 10000:\n",
    "        for batch in train:\n",
    "            total_iter += 1\n",
    "            train_inputs, train_labels = batch\n",
    "            train_outputs = model(train_inputs.to(device))\n",
    "            l = loss_fn(train_outputs, train_labels.to(device))\n",
    "            loss += l.item()\n",
    "            optimizer.zero_grad()\n",
    "            l.backward()\n",
    "            optimizer.step()\n",
    "\n",
    "            if total_iter % watch_iter == 0:\n",
    "                train_loss = loss / watch_iter\n",
    "                train_loss_his.append(train_loss)\n",
    "                loss = 0.0\n",
    "                for batch in test:\n",
    "                    test_inputs, test_labels = batch\n",
    "                    test_outputs = model(test_inputs.to(device))\n",
    "                    l = loss_fn(test_outputs, test_labels.to(device))\n",
    "                    loss += l.item()\n",
    "                test_loss_his.append(loss)\n",
    "                txt = f'iter: {total_iter: 6d}, train loss: {train_loss}, test_loss: {loss}'\n",
    "                print(txt)\n",
    "                print('accuracy: ' + str(evaluate(model,test)*100) + '%')\n",
    "                loss = 0.0\n",
    "    return"
   ]
  },
  {
   "cell_type": "code",
   "execution_count": 8,
   "metadata": {
    "colab": {
     "base_uri": "https://localhost:8080/",
     "height": 934
    },
    "id": "sIjIFZFK6YA0",
    "outputId": "7636a880-7d03-494a-dfb5-38f7067a7925"
   },
   "outputs": [
    {
     "name": "stdout",
     "output_type": "stream",
     "text": [
      "iter:    100, train loss: 2.588987829685211, test_loss: 93.46189141273499\n",
      "accuracy: 27.16%\n",
      "iter:    200, train loss: 2.288800039291382, test_loss: 87.14319729804993\n",
      "accuracy: 32.550000000000004%\n",
      "iter:    300, train loss: 2.051382590532303, test_loss: 82.8116979598999\n",
      "accuracy: 35.57%\n",
      "iter:    400, train loss: 1.9816999208927155, test_loss: 78.50823628902435\n",
      "accuracy: 38.73%\n",
      "iter:    500, train loss: 1.693417261838913, test_loss: 77.33368825912476\n",
      "accuracy: 39.660000000000004%\n",
      "iter:    600, train loss: 1.7227002274990082, test_loss: 74.36561298370361\n",
      "accuracy: 42.49%\n",
      "iter:    700, train loss: 1.3315027332305909, test_loss: 80.35701668262482\n",
      "accuracy: 40.07%\n",
      "iter:    800, train loss: 1.4230734670162202, test_loss: 75.99516558647156\n",
      "accuracy: 42.57%\n",
      "iter:    900, train loss: 0.8945182180404663, test_loss: 87.41694021224976\n",
      "accuracy: 39.73%\n",
      "iter:   1000, train loss: 1.0532421284914018, test_loss: 83.85055327415466\n",
      "accuracy: 41.53%\n",
      "iter:   1100, train loss: 0.500490782558918, test_loss: 98.13025283813477\n",
      "accuracy: 39.96%\n",
      "iter:   1200, train loss: 0.6394453766942024, test_loss: 96.5655448436737\n",
      "accuracy: 40.699999999999996%\n",
      "iter:   1300, train loss: 0.27211894288659094, test_loss: 106.43516087532043\n",
      "accuracy: 39.82%\n",
      "iter:   1400, train loss: 0.32847372174263, test_loss: 108.86777114868164\n",
      "accuracy: 39.78%\n",
      "iter:   1500, train loss: 0.15630148068070412, test_loss: 114.65765857696533\n",
      "accuracy: 39.81%\n",
      "iter:   1600, train loss: 0.17863095194101333, test_loss: 117.01314115524292\n",
      "accuracy: 40.11%\n",
      "iter:   1700, train loss: 0.10455941826105118, test_loss: 121.9595696926117\n",
      "accuracy: 39.879999999999995%\n",
      "iter:   1800, train loss: 0.13636657383292913, test_loss: 126.43559980392456\n",
      "accuracy: 38.92%\n",
      "iter:   1900, train loss: 0.10010721765458584, test_loss: 128.3287308216095\n",
      "accuracy: 39.01%\n",
      "iter:   2000, train loss: 0.1356023544818163, test_loss: 127.78088045120239\n",
      "accuracy: 40.26%\n",
      "iter:   2100, train loss: 0.10521364998072386, test_loss: 129.51181554794312\n",
      "accuracy: 40.300000000000004%\n",
      "iter:   2200, train loss: 0.1387629686295986, test_loss: 131.7462456226349\n",
      "accuracy: 39.73%\n",
      "iter:   2300, train loss: 0.09982798960059881, test_loss: 132.85077285766602\n",
      "accuracy: 39.800000000000004%\n",
      "iter:   2400, train loss: 0.12549008667469025, test_loss: 134.47439575195312\n",
      "accuracy: 39.73%\n",
      "iter:   2500, train loss: 0.09940264612436295, test_loss: 136.8858358860016\n",
      "accuracy: 39.53%\n",
      "iter:   2600, train loss: 0.14465889558196068, test_loss: 134.04464483261108\n",
      "accuracy: 39.839999999999996%\n",
      "iter:   2700, train loss: 0.10157572329044343, test_loss: 138.44389748573303\n",
      "accuracy: 40.150000000000006%\n",
      "iter:   2800, train loss: 0.11598061837255955, test_loss: 135.86789059638977\n",
      "accuracy: 39.44%\n",
      "iter:   2900, train loss: 0.07749187240377069, test_loss: 138.3361532688141\n",
      "accuracy: 40.2%\n",
      "iter:   3000, train loss: 0.10244607876986266, test_loss: 140.32854795455933\n",
      "accuracy: 40.6%\n",
      "iter:   3100, train loss: 0.07228214355185628, test_loss: 141.28221321105957\n",
      "accuracy: 39.96%\n",
      "iter:   3200, train loss: 0.07423256969079375, test_loss: 141.82456231117249\n",
      "accuracy: 39.989999999999995%\n",
      "iter:   3300, train loss: 0.06343984687700868, test_loss: 142.82974863052368\n",
      "accuracy: 40.03%\n",
      "iter:   3400, train loss: 0.08272552896291017, test_loss: 145.74136352539062\n",
      "accuracy: 39.6%\n",
      "iter:   3500, train loss: 0.07063958127051592, test_loss: 146.6438913345337\n",
      "accuracy: 39.51%\n",
      "iter:   3600, train loss: 0.10027904000133275, test_loss: 145.87724351882935\n",
      "accuracy: 39.0%\n",
      "iter:   3700, train loss: 0.08552527775987982, test_loss: 146.92946076393127\n",
      "accuracy: 39.47%\n",
      "iter:   3800, train loss: 0.10785311441868543, test_loss: 145.0497705936432\n",
      "accuracy: 40.089999999999996%\n",
      "iter:   3900, train loss: 0.08443156350404024, test_loss: 144.99008202552795\n",
      "accuracy: 40.62%\n",
      "iter:   4000, train loss: 0.10237992182374, test_loss: 148.57360816001892\n",
      "accuracy: 39.87%\n",
      "iter:   4100, train loss: 0.06393072888255119, test_loss: 148.24876713752747\n",
      "accuracy: 40.28%\n",
      "iter:   4200, train loss: 0.07198920987546444, test_loss: 148.72429656982422\n",
      "accuracy: 40.23%\n",
      "iter:   4300, train loss: 0.051738427486270666, test_loss: 150.89701867103577\n",
      "accuracy: 39.660000000000004%\n",
      "iter:   4400, train loss: 0.05594304327853024, test_loss: 150.09100317955017\n",
      "accuracy: 40.29%\n",
      "iter:   4500, train loss: 0.048977455971762535, test_loss: 152.60643601417542\n",
      "accuracy: 40.160000000000004%\n",
      "iter:   4600, train loss: 0.05990700338035822, test_loss: 153.51472425460815\n",
      "accuracy: 40.23%\n",
      "iter:   4700, train loss: 0.05213420808315277, test_loss: 151.93729519844055\n",
      "accuracy: 40.79%\n",
      "iter:   4800, train loss: 0.08929777858778834, test_loss: 152.22503876686096\n",
      "accuracy: 39.77%\n",
      "iter:   4900, train loss: 0.09220706164836884, test_loss: 153.0599524974823\n",
      "accuracy: 39.739999999999995%\n",
      "iter:   5000, train loss: 0.1269132711738348, test_loss: 149.15477442741394\n",
      "accuracy: 40.03%\n",
      "iter:   5100, train loss: 0.08587750017642976, test_loss: 153.58955097198486\n",
      "accuracy: 39.79%\n",
      "iter:   5200, train loss: 0.09555836889892816, test_loss: 151.00081777572632\n",
      "accuracy: 39.97%\n",
      "iter:   5300, train loss: 0.05303983698599041, test_loss: 150.01779580116272\n",
      "accuracy: 40.69%\n",
      "iter:   5400, train loss: 0.05118360232561827, test_loss: 152.223375082016\n",
      "accuracy: 40.61%\n",
      "iter:   5500, train loss: 0.027120996117591858, test_loss: 153.04109740257263\n",
      "accuracy: 40.949999999999996%\n",
      "iter:   5600, train loss: 0.031241668285802007, test_loss: 152.6897406578064\n",
      "accuracy: 41.89%\n",
      "iter:   5700, train loss: 0.018845220166258513, test_loss: 152.37044262886047\n",
      "accuracy: 41.42%\n",
      "iter:   5800, train loss: 0.02074489984661341, test_loss: 155.0032389163971\n",
      "accuracy: 41.77%\n",
      "iter:   5900, train loss: 0.019577863242011516, test_loss: 156.28093338012695\n",
      "accuracy: 41.449999999999996%\n",
      "iter:   6000, train loss: 0.026854052343405783, test_loss: 159.1444535255432\n",
      "accuracy: 40.86%\n",
      "iter:   6100, train loss: 0.04152850623242557, test_loss: 161.35222029685974\n",
      "accuracy: 40.28%\n",
      "iter:   6200, train loss: 0.1023405335098505, test_loss: 162.14966583251953\n",
      "accuracy: 39.160000000000004%\n",
      "iter:   6300, train loss: 0.16006116904318332, test_loss: 154.68674087524414\n",
      "accuracy: 39.35%\n",
      "iter:   6400, train loss: 0.19140281610190868, test_loss: 148.21221566200256\n",
      "accuracy: 39.519999999999996%\n",
      "iter:   6500, train loss: 0.09587398894131184, test_loss: 145.96292209625244\n",
      "accuracy: 41.13%\n",
      "iter:   6600, train loss: 0.079124117475003, test_loss: 147.100848197937\n",
      "accuracy: 41.39%\n",
      "iter:   6700, train loss: 0.035296878246590495, test_loss: 148.04418897628784\n",
      "accuracy: 41.69%\n",
      "iter:   6800, train loss: 0.027641991302371025, test_loss: 152.1803538799286\n",
      "accuracy: 41.120000000000005%\n",
      "iter:   6900, train loss: 0.011793556483462453, test_loss: 151.11974930763245\n",
      "accuracy: 41.78%\n",
      "iter:   7000, train loss: 0.010732201212085783, test_loss: 152.27709007263184\n",
      "accuracy: 41.699999999999996%\n",
      "iter:   7100, train loss: 0.006872306306613609, test_loss: 153.35126399993896\n",
      "accuracy: 41.69%\n",
      "iter:   7200, train loss: 0.00623724511009641, test_loss: 155.84460520744324\n",
      "accuracy: 41.94%\n",
      "iter:   7300, train loss: 0.0029734156955964863, test_loss: 153.91102743148804\n",
      "accuracy: 42.63%\n",
      "iter:   7400, train loss: 0.002565257928799838, test_loss: 154.19953632354736\n",
      "accuracy: 42.67%\n",
      "iter:   7500, train loss: 0.001268526484782342, test_loss: 155.46264910697937\n",
      "accuracy: 42.79%\n",
      "iter:   7600, train loss: 0.0011912362498696894, test_loss: 154.83665823936462\n",
      "accuracy: 42.78%\n",
      "iter:   7700, train loss: 0.0005717541078047361, test_loss: 154.4448516368866\n",
      "accuracy: 43.519999999999996%\n",
      "iter:   7800, train loss: 0.0005720722008845768, test_loss: 155.18482971191406\n",
      "accuracy: 43.08%\n",
      "iter:   7900, train loss: 0.00037320297313272023, test_loss: 155.30243825912476\n",
      "accuracy: 42.980000000000004%\n",
      "iter:   8000, train loss: 0.0003437360786483623, test_loss: 155.48675394058228\n",
      "accuracy: 42.9%\n",
      "iter:   8100, train loss: 0.00027084950270364063, test_loss: 155.95464706420898\n",
      "accuracy: 43.07%\n",
      "iter:   8200, train loss: 0.0002326358480786439, test_loss: 156.10128617286682\n",
      "accuracy: 43.14%\n",
      "iter:   8300, train loss: 0.00020981269284675363, test_loss: 156.18726205825806\n",
      "accuracy: 43.15%\n",
      "iter:   8400, train loss: 0.0001979276317433687, test_loss: 156.30847144126892\n",
      "accuracy: 43.13%\n",
      "iter:   8500, train loss: 0.0001876077154156519, test_loss: 156.4802484512329\n"
     ]
    },
    {
     "name": "stdout",
     "output_type": "stream",
     "text": [
      "accuracy: 43.04%\n",
      "iter:   8600, train loss: 0.00018014327768469228, test_loss: 156.6173644065857\n",
      "accuracy: 43.02%\n",
      "iter:   8700, train loss: 0.00014893153602315578, test_loss: 156.72763633728027\n",
      "accuracy: 42.970000000000006%\n",
      "iter:   8800, train loss: 0.00013999283768498572, test_loss: 157.12383604049683\n",
      "accuracy: 42.96%\n",
      "iter:   8900, train loss: 0.00014419981285755058, test_loss: 157.3787477016449\n",
      "accuracy: 42.870000000000005%\n",
      "iter:   9000, train loss: 0.00013632561516715213, test_loss: 157.67504000663757\n",
      "accuracy: 42.88%\n",
      "iter:   9100, train loss: 0.00012116293633880559, test_loss: 157.8825855255127\n",
      "accuracy: 42.809999999999995%\n",
      "iter:   9200, train loss: 0.00012415992277965416, test_loss: 158.0439076423645\n",
      "accuracy: 42.91%\n",
      "iter:   9300, train loss: 0.00011050346111005638, test_loss: 158.20290207862854\n",
      "accuracy: 43.03%\n",
      "iter:   9400, train loss: 0.0001112603578803828, test_loss: 158.36382484436035\n",
      "accuracy: 42.93%\n",
      "iter:   9500, train loss: 0.00010103093416546471, test_loss: 158.58765745162964\n",
      "accuracy: 43.01%\n",
      "iter:   9600, train loss: 9.607782514649443e-05, test_loss: 158.7808609008789\n",
      "accuracy: 43.03%\n",
      "iter:   9700, train loss: 0.00014567002283001783, test_loss: 159.90488982200623\n",
      "accuracy: 43.4%\n",
      "iter:   9800, train loss: 0.00012859608821599977, test_loss: 159.67563652992249\n",
      "accuracy: 43.5%\n",
      "iter:   9900, train loss: 9.663858512794832e-05, test_loss: 159.7446644306183\n",
      "accuracy: 43.32%\n",
      "iter:  10000, train loss: 9.445611260161968e-05, test_loss: 160.01647901535034\n",
      "accuracy: 43.13%\n"
     ]
    }
   ],
   "source": [
    "train_loss_his = []\n",
    "test_loss_his = []\n",
    "train(net,trainDataLoader,testDataLoader,loss,optimizer,100)\n"
   ]
  },
  {
   "cell_type": "code",
   "execution_count": 9,
   "metadata": {
    "id": "KZXp-LeJJuBQ"
   },
   "outputs": [],
   "source": [
    "class_2 = \t[['beaver', 'dolphin', 'otter', 'seal', 'whale'],\n",
    "\t['aquarium_fish', 'flatfish', 'ray', 'shark', 'trout'],\n",
    "\t['orchid', 'poppy', 'rose', 'sunflower', 'tulip'],\n",
    "    ['bottle', 'bowl', 'can', 'cup', 'plate'],\n",
    "\t['apple', 'mushroom', 'orange', 'pear', 'sweet_pepper'],\n",
    "\t['clock', 'keyboard', 'lamp', 'telephone', 'television'],\n",
    "    ['bed', 'chair', 'couch', 'table', 'wardrobe'],\n",
    "\t['bee', 'beetle', 'butterfly', 'caterpillar', 'cockroach'],\n",
    "\t['bear', 'leopard', 'lion', 'tiger', 'wolf'],\n",
    "    ['bridge', 'castle', 'house', 'road', 'skyscraper'],\n",
    "\t['cloud', 'forest', 'mountain', 'plain', 'sea'],\n",
    "\t['camel', 'cattle', 'chimpanzee', 'elephant', 'kangaroo'],\n",
    "\t['fox', 'porcupine', 'possum', 'raccoon', 'skunk'],\n",
    "\t['crab', 'lobster', 'snail', 'spider', 'worm'],\n",
    "\t['baby', 'boy', 'girl', 'man', 'woman'],\n",
    "\t['crocodile', 'dinosaur', 'lizard', 'snake', 'turtle'],\n",
    "\t['hamster', 'mouse', 'rabbit', 'shrew', 'squirrel'],\n",
    "\t['maple_tree', 'oak_tree', 'palm_tree', 'pine_tree', 'willow_tree'],\n",
    "\t['bicycle', 'bus', 'motorcycle', 'pickup_truck', 'train'],\n",
    "\t['lawn_mower', 'rocket', 'streetcar', 'tank', 'tractor']]"
   ]
  },
  {
   "cell_type": "code",
   "execution_count": null,
   "metadata": {},
   "outputs": [
    {
     "data": {
      "text/plain": [
       "<matplotlib.legend.Legend at 0x148e2fe9dfa0>"
      ]
     },
     "execution_count": 10,
     "metadata": {},
     "output_type": "execute_result"
    }
   ],
   "source": [
    "plt.plot(range(len(train_loss_his)),train_loss_his,'-',linewidth=3,label='Train loss')\n",
    "plt.plot(range(len(train_loss_his)),test_loss_his,'-',linewidth=3,label='Test loss')\n",
    "plt.xlabel('epoches')\n",
    "plt.ylabel('loss')\n",
    "plt.grid(True)\n",
    "plt.legend()"
   ]
  },
  {
   "cell_type": "code",
   "execution_count": null,
   "metadata": {},
   "outputs": [],
   "source": []
  }
 ],
 "metadata": {
  "accelerator": "GPU",
  "colab": {
   "machine_shape": "hm",
   "name": "AML_final.ipynb",
   "provenance": []
  },
  "kernelspec": {
   "display_name": "Python 3",
   "language": "python",
   "name": "python3"
  },
  "language_info": {
   "codemirror_mode": {
    "name": "ipython",
    "version": 3
   },
   "file_extension": ".py",
   "mimetype": "text/x-python",
   "name": "python",
   "nbconvert_exporter": "python",
   "pygments_lexer": "ipython3",
   "version": "3.8.6"
  }
 },
 "nbformat": 4,
 "nbformat_minor": 1
}
